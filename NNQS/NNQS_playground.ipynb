{
  "cells": [
    {
      "cell_type": "markdown",
      "source": [
        "### Installing requirements"
      ],
      "metadata": {
        "id": "6UAJdjH6WEqh"
      },
      "id": "6UAJdjH6WEqh"
    },
    {
      "cell_type": "code",
      "source": [
        "import os, sys\n",
        "'''from google.colab import drive\n",
        "drive.mount('/content/drive')\n",
        "nb_path = '/content/notebooks'\n",
        "os.symlink('/content/drive/My Drive/Colab Notebooks', nb_path)\n",
        "sys.path.insert(0,nb_path)'''"
      ],
      "metadata": {
        "id": "0A4BO7PcY5Eu",
        "colab": {
          "base_uri": "https://localhost:8080/"
        },
        "outputId": "52bc6893-4f4c-493f-8d3a-710b298d5df3"
      },
      "id": "0A4BO7PcY5Eu",
      "execution_count": null,
      "outputs": [
        {
          "output_type": "execute_result",
          "data": {
            "text/plain": [
              "\"from google.colab import drive\\ndrive.mount('/content/drive')\\nnb_path = '/content/notebooks'\\nos.symlink('/content/drive/My Drive/Colab Notebooks', nb_path)\\nsys.path.insert(0,nb_path)\""
            ],
            "application/vnd.google.colaboratory.intrinsic+json": {
              "type": "string"
            }
          },
          "metadata": {},
          "execution_count": 19
        }
      ]
    },
    {
      "cell_type": "code",
      "source": [
        "!pip install --target=$nb_path netket"
      ],
      "metadata": {
        "colab": {
          "base_uri": "https://localhost:8080/"
        },
        "id": "YQub2XoJ-fdm",
        "outputId": "62d1a2b1-3449-421a-e36f-1f328a14c22b"
      },
      "id": "YQub2XoJ-fdm",
      "execution_count": null,
      "outputs": [
        {
          "output_type": "stream",
          "name": "stdout",
          "text": [
            "Requirement already satisfied: netket in /usr/local/lib/python3.11/dist-packages (3.17.1)\n",
            "Requirement already satisfied: equinox>=0.11.3 in /usr/local/lib/python3.11/dist-packages (from netket) (0.12.1)\n",
            "Requirement already satisfied: flax>=0.10.2 in /usr/local/lib/python3.11/dist-packages (from netket) (0.10.6)\n",
            "Requirement already satisfied: igraph>=0.10.0 in /usr/local/lib/python3.11/dist-packages (from netket) (0.11.8)\n",
            "Requirement already satisfied: jax<0.6,>=0.3.37 in /usr/local/lib/python3.11/dist-packages (from netket) (0.5.2)\n",
            "Requirement already satisfied: numba>=0.59 in /usr/local/lib/python3.11/dist-packages (from netket) (0.60.0)\n",
            "Requirement already satisfied: numpy<3.0,>=1.20 in /usr/local/lib/python3.11/dist-packages (from netket) (2.0.2)\n",
            "Requirement already satisfied: optax<0.3,>=0.2.2 in /usr/local/lib/python3.11/dist-packages (from netket) (0.2.4)\n",
            "Requirement already satisfied: orjson<4,>=3.4 in /usr/local/lib/python3.11/dist-packages (from netket) (3.10.18)\n",
            "Requirement already satisfied: plum-dispatch>=2.4 in /usr/local/lib/python3.11/dist-packages (from netket) (2.5.7)\n",
            "Requirement already satisfied: rich>=12.0 in /usr/local/lib/python3.11/dist-packages (from netket) (13.9.4)\n",
            "Requirement already satisfied: scipy<2,>=1.5.3 in /usr/local/lib/python3.11/dist-packages (from netket) (1.15.2)\n",
            "Requirement already satisfied: tqdm<5,>=4.60 in /usr/local/lib/python3.11/dist-packages (from netket) (4.67.1)\n",
            "Requirement already satisfied: jaxtyping>=0.2.20 in /usr/local/lib/python3.11/dist-packages (from equinox>=0.11.3->netket) (0.3.2)\n",
            "Requirement already satisfied: typing-extensions>=4.5.0 in /usr/local/lib/python3.11/dist-packages (from equinox>=0.11.3->netket) (4.13.2)\n",
            "Requirement already satisfied: wadler-lindig>=0.1.0 in /usr/local/lib/python3.11/dist-packages (from equinox>=0.11.3->netket) (0.1.5)\n",
            "Requirement already satisfied: msgpack in /usr/local/lib/python3.11/dist-packages (from flax>=0.10.2->netket) (1.1.0)\n",
            "Requirement already satisfied: orbax-checkpoint in /usr/local/lib/python3.11/dist-packages (from flax>=0.10.2->netket) (0.11.13)\n",
            "Requirement already satisfied: tensorstore in /usr/local/lib/python3.11/dist-packages (from flax>=0.10.2->netket) (0.1.74)\n",
            "Requirement already satisfied: PyYAML>=5.4.1 in /usr/local/lib/python3.11/dist-packages (from flax>=0.10.2->netket) (6.0.2)\n",
            "Requirement already satisfied: treescope>=0.1.7 in /usr/local/lib/python3.11/dist-packages (from flax>=0.10.2->netket) (0.1.9)\n",
            "Requirement already satisfied: texttable>=1.6.2 in /usr/local/lib/python3.11/dist-packages (from igraph>=0.10.0->netket) (1.7.0)\n",
            "Requirement already satisfied: jaxlib<=0.5.2,>=0.5.1 in /usr/local/lib/python3.11/dist-packages (from jax<0.6,>=0.3.37->netket) (0.5.1)\n",
            "Requirement already satisfied: ml_dtypes>=0.4.0 in /usr/local/lib/python3.11/dist-packages (from jax<0.6,>=0.3.37->netket) (0.4.1)\n",
            "Requirement already satisfied: opt_einsum in /usr/local/lib/python3.11/dist-packages (from jax<0.6,>=0.3.37->netket) (3.4.0)\n",
            "Requirement already satisfied: llvmlite<0.44,>=0.43.0dev0 in /usr/local/lib/python3.11/dist-packages (from numba>=0.59->netket) (0.43.0)\n",
            "Requirement already satisfied: absl-py>=0.7.1 in /usr/local/lib/python3.11/dist-packages (from optax<0.3,>=0.2.2->netket) (1.4.0)\n",
            "Requirement already satisfied: chex>=0.1.87 in /usr/local/lib/python3.11/dist-packages (from optax<0.3,>=0.2.2->netket) (0.1.89)\n",
            "Requirement already satisfied: etils[epy] in /usr/local/lib/python3.11/dist-packages (from optax<0.3,>=0.2.2->netket) (1.12.2)\n",
            "Requirement already satisfied: beartype>=0.16.2 in /usr/local/lib/python3.11/dist-packages (from plum-dispatch>=2.4->netket) (0.20.2)\n",
            "Requirement already satisfied: markdown-it-py>=2.2.0 in /usr/local/lib/python3.11/dist-packages (from rich>=12.0->netket) (3.0.0)\n",
            "Requirement already satisfied: pygments<3.0.0,>=2.13.0 in /usr/local/lib/python3.11/dist-packages (from rich>=12.0->netket) (2.19.1)\n",
            "Requirement already satisfied: toolz>=0.9.0 in /usr/local/lib/python3.11/dist-packages (from chex>=0.1.87->optax<0.3,>=0.2.2->netket) (0.12.1)\n",
            "Requirement already satisfied: mdurl~=0.1 in /usr/local/lib/python3.11/dist-packages (from markdown-it-py>=2.2.0->rich>=12.0->netket) (0.1.2)\n",
            "Requirement already satisfied: nest_asyncio in /usr/local/lib/python3.11/dist-packages (from orbax-checkpoint->flax>=0.10.2->netket) (1.6.0)\n",
            "Requirement already satisfied: protobuf in /usr/local/lib/python3.11/dist-packages (from orbax-checkpoint->flax>=0.10.2->netket) (5.29.4)\n",
            "Requirement already satisfied: humanize in /usr/local/lib/python3.11/dist-packages (from orbax-checkpoint->flax>=0.10.2->netket) (4.12.3)\n",
            "Requirement already satisfied: simplejson>=3.16.0 in /usr/local/lib/python3.11/dist-packages (from orbax-checkpoint->flax>=0.10.2->netket) (3.20.1)\n",
            "Requirement already satisfied: fsspec in /usr/local/lib/python3.11/dist-packages (from etils[epy]->optax<0.3,>=0.2.2->netket) (2025.3.2)\n",
            "Requirement already satisfied: importlib_resources in /usr/local/lib/python3.11/dist-packages (from etils[epy]->optax<0.3,>=0.2.2->netket) (6.5.2)\n",
            "Requirement already satisfied: zipp in /usr/local/lib/python3.11/dist-packages (from etils[epy]->optax<0.3,>=0.2.2->netket) (3.21.0)\n"
          ]
        }
      ]
    },
    {
      "cell_type": "markdown",
      "source": [
        "### TFI using ANN from netket"
      ],
      "metadata": {
        "id": "34cLMVgmWMne"
      },
      "id": "34cLMVgmWMne"
    },
    {
      "cell_type": "code",
      "source": [
        "import netket as nk\n",
        "from scipy.sparse.linalg import eigsh\n",
        "from netket.operator.spin import sigmax, sigmaz\n",
        "import jax\n",
        "import matplotlib.pyplot as plt\n",
        "import matplotlib as mpl\n",
        "import numpy as np\n",
        "import jax.numpy as jnp\n",
        "import flax\n",
        "from flax import nnx\n",
        "import flax.linen as nn\n",
        "import netket.nn as nknn\n",
        "from tqdm import tqdm\n",
        "import tracemalloc\n",
        "import time\n",
        "from google.colab import files\n",
        "import json\n",
        "#for those lines upload Ising.py and NNQS.py\n",
        "from Ising import Ising\n",
        "from NNQS import *\n",
        "\n",
        "#cosmetics for plots and choice cpu/gpu for NNQS\n",
        "mpl.rcParams.update({'font.size':55})\n",
        "mpl.rcParams.update({'lines.linewidth':4})\n",
        "os.environ[\"JAX_PLATFORM_NAME\"] = \"cpu\""
      ],
      "metadata": {
        "id": "vD5Ghvyl-fTG"
      },
      "id": "vD5Ghvyl-fTG",
      "execution_count": null,
      "outputs": []
    },
    {
      "cell_type": "code",
      "source": [
        "#this cell counts GD Energy for different sizes and record computational time\n",
        "sizes = []\n",
        "exact_gs_arr = []\n",
        "exact_times = []\n",
        "N_arr = range(2, 21, 2)\n",
        "for N in tqdm(N_arr):\n",
        "    chain = Ising(N=N, l = 1, periodic=True)\n",
        "    eig_vals, eig_vecs = chain.find_exact_gs(full_out=True)\n",
        "    exact_gs_arr.append(eig_vals)\n",
        "    timexact_timeses.append(chain.exact_sol_time)"
      ],
      "metadata": {
        "colab": {
          "base_uri": "https://localhost:8080/"
        },
        "id": "ha0SVGtzUXYV",
        "outputId": "06b41b34-d83a-45f9-edd8-4c892cc3e0ba"
      },
      "id": "ha0SVGtzUXYV",
      "execution_count": null,
      "outputs": [
        {
          "output_type": "stream",
          "name": "stderr",
          "text": [
            "100%|\u2588\u2588\u2588\u2588\u2588\u2588\u2588\u2588\u2588\u2588| 10/10 [00:58<00:00,  5.88s/it]\n"
          ]
        }
      ]
    },
    {
      "cell_type": "code",
      "source": [
        "#this cell saves energies and computational times to .json file\n",
        "exact_t_data = dict.fromkeys(N_arr)\n",
        "exact_gs_data = dict.fromkeys(N_arr)\n",
        "for i, N in enumerate(N_arr):\n",
        "    exact_t_data[N] = exact_times[i]\n",
        "    exact_gs_data[N] = exact_gs_arr[i]\n",
        "\n",
        "with open('exact_times.json', 'w') as fp:\n",
        "    json.dump(exact_t_data, fp)\n",
        "with open('exact_gs.json', 'w') as fp:\n",
        "    json.dump(exact_gs_data, fp)"
      ],
      "metadata": {
        "colab": {
          "base_uri": "https://localhost:8080/"
        },
        "id": "eT8crTRSCxJO",
        "outputId": "c35094a8-689d-4015-d94c-a7ee9fa9d2fb"
      },
      "id": "eT8crTRSCxJO",
      "execution_count": null,
      "outputs": [
        {
          "output_type": "stream",
          "name": "stdout",
          "text": [
            "{2: 5.144923210144043, 4: 0.44850850105285645, 6: 0.31794071197509766, 8: 0.6103641986846924, 10: 0.733989953994751, 12: 0.6761798858642578, 14: 1.280825138092041, 16: 2.295001268386841, 18: 11.414023876190186, 20: 35.63497185707092}\n"
          ]
        }
      ]
    },
    {
      "cell_type": "code",
      "source": [
        "#this cell sets the alpha for NNQS and range for system size\n",
        "alpha = 1\n",
        "nnqs_N_arr = [int(i) for i in np.unique(np.array(list(range(2, 23, 2)) + list(range(2,103,10)), dtype=int))]\n",
        "#nnqs_N_arr = [int(2**i) for i in range(6, 12)]"
      ],
      "metadata": {
        "id": "M49_KgC2RQSe"
      },
      "id": "M49_KgC2RQSe",
      "execution_count": null,
      "outputs": []
    },
    {
      "cell_type": "code",
      "source": [
        "#this cell runs NNQS for different system size and saving logs to .json files\n",
        "nn_times = []\n",
        "for N in nnqs_N_arr:\n",
        "    chain = Ising(N=int(N), l = 1, periodic=True)\n",
        "    sampler = nk.sampler.MetropolisLocal(chain.hi)\n",
        "    nn_model = FFN(N=chain.N, alpha=alpha, rngs = nnx.Rngs(2))\n",
        "    nn_vstate = nk.vqs.MCState(sampler, nn_model, n_samples=1024)\n",
        "    log, nn_time = NNQS_run(chain, nn_vstate, n_iter=300)\n",
        "    log.serialize(f'./log_{N}_{alpha}')\n",
        "    files.download(f'./log_{N}_{alpha}.json')\n",
        "    nn_times.append(nn_time)"
      ],
      "metadata": {
        "colab": {
          "base_uri": "https://localhost:8080/",
          "height": 625,
          "referenced_widgets": [
            "9585a333e7fa4cd99759675d6837946c",
            "369fb84de95b42bfa949c7b69d7eb4c5",
            "0098daf5d27e4e92ab271ce9d5c24f9f",
            "f48d1e602e99485bb24980952556bef4",
            "d1da49cf01b0446bb17a49fc09b8186e",
            "884cbc70b4334dce850e6d21cfdf3478",
            "6280f409be484928a03b287b7a4290f9",
            "c2b1ad00d09b410495e9ffbab53a497c",
            "b2c5ea7023144a1eabe49f84fd7c3324",
            "cfe84cf742cb4353833642d08ec670eb",
            "f59c4ffb68e24b31b3803a4898263628",
            "35639971065346e9a98f8b373cfc3710",
            "90b7f7cd47fd472b8cbac60509553dbb",
            "c993256aaedd4b3e86ef630fe3f3c646",
            "70cfc2cbb10643aa9b655af816b196d2",
            "6f27ab6075cd40b88c40dc3e58472a3c",
            "965d46efff104f6798d4d70d97b0f403",
            "3e42f30c7fab4b3cbfa746ae3dcabd58",
            "cc802c68a3b24e22bac416a1c70a845e",
            "e56da4fbf62a463f87b0044421a9718f",
            "5e306f6be2df496485bd889717796282",
            "1a77e64d3a954b4b8a6026726c35a20f",
            "d6d0a4bb91864d1f81b8237fd8559347",
            "c39eba88955544d293d56b646143e58b",
            "c18168a0ec8c43eaa13c01a7cbb8421f",
            "7ff2d76af3e6400884b9748691c3b6d2",
            "07404075668344eb945c5a0ad3aaeb7c",
            "e0bdbe47b5f645b5b2c33293ca6bd4d7",
            "1e60edbb665f44e3b54f5a7119b23282",
            "c72ff0549619431180c4f802bf9df214",
            "f4a9dc18c11049e69e616914e318eff5",
            "2afb2640f2c34ed98b0828984424a551",
            "074eb871b9a54cb691a718e65a7b967a",
            "370d273d3d3742d09d5424e5216cc794",
            "e99ebf1e5e1b4b24a1d550cf561742dd",
            "4f1c5817a7e94ea6badfff4d8ed448fa",
            "6de4c3cbe2c2455c8dfdc70cd0f6f72b",
            "eda6fc1dd7b646e9a1ab4a15de585dea",
            "73f16cded431481c9e3a7300aa912a77",
            "4a1f5332d6d84320bb88e08ad0c60e4c",
            "e955a0ed195049119b1ecf6669c48928",
            "2ca8626b90554f7fb518fb63b0d3bba2",
            "215f8b88b45649ea877e5c72350e9c70",
            "93f11aed404d460cae645dc353983e7e",
            "d4182797db504776ba91488f6cbd9380",
            "900d1c77fa184e12b88c19cd842be476",
            "8f77e1153cc04d15a2451bacd020ee63",
            "819ca01d176f4bad964772fdde32dd11",
            "058fc5465a8d431d916edef1ce20ae00",
            "610a036ab22f495384b885d9e7dbd57c",
            "a1edfdc84c25424fb18f9194be396878",
            "aa3c3e4ca9b7466cac9e657d06aaa8dc",
            "c3fbd9987a464d70aa8178f080ab85fe",
            "bc4cd4bda4504a27818c0054af9912e1",
            "99f9a59a6cbb4ababf2ac2f7b441ac7a",
            "cc5199a28dcd4588bfc406ad7b60f675",
            "5e26f299805a41489ceddf5fc8af7093",
            "a858d1aedada4c008e3ebf244314337c",
            "d421da9b2f344324ac6c19b35e3c8d08",
            "0987038273e54f299e4a30f3be81bb83",
            "4ffea180e3bb4441957934b295a7a0bd",
            "40de3371f7004b4e8357c753ec2714c2",
            "40b0a92bad284f6bb4416cb7a3f6db27",
            "1199778f16bc4881b5f4524f18958b3d",
            "fa66b12583314de49abdf8ee88358c52",
            "fedf856dc3b748a48566277f4787af90",
            "aa6571626ee54cbeb5e0825034e42927",
            "fae7645eda6548699448e69d28f991c9",
            "726ef353e55d45faa4f56f840ee4fd6a",
            "6598ae7989ce4963bb17a2f27094d578",
            "a4edb7d9c65047f892b519cbc24650da",
            "cd15ee6c79b94550a95bbb46709f344e",
            "44dec01deb114579a15fe7d7cf3e3183",
            "7caedb33fda4452f96da3f0fd3d350dc",
            "2194ec4a0dff440c90a339afbc694e3e",
            "49d43b9d042342f1b7d92bd47ffe2ba2",
            "bae14a45016146679e75b68bcf834831",
            "1cd7dd5796714c1bb00d8b5aff0b2c1f",
            "13c0e1ab562844f58534a2877023bd91",
            "727a8f1ad5f444a8ad10f94f234a86ce",
            "2dfe0918785047538ffaa8617a815b36",
            "7e5e25a5bbe94427bf22ad0e1ab40773",
            "66148826ef85426c9147185791fcd862",
            "6d7049a7e60d42d99d5bcb7d23bb3c14",
            "2c370f05e24b4fe691d605dbbdc81511",
            "b9d77fcbc582449392f1fa485271f954",
            "506d87a051eb4b1c8412c99fbad45fda",
            "23be716a44c54b97ba0b9442d9a98c77",
            "2e01b3879ba444769118f3bb16fe00b0",
            "30802e5991d34006843b59b597dcce90",
            "5bdb1272ba66437a8c913710bc85edde",
            "7c8011d03a1848ada00ea7c504f4ee4c",
            "483cdba45bbc470dac992f71b3cc6cea",
            "3953d93ddb67455b92cdd96174fd4316",
            "82d8873c0abf43d7840531d3d9d460b5",
            "e75b7163b35540f889866ca4c81a3315",
            "7c98b018a52c49279a4fcb79f2c1e8ba",
            "ae6387f3c7374c35b7ec39d1fea8d148",
            "13d48e53836d497faae3f797a730f1dc",
            "7cdc39278ad44f25ac96666246737b15",
            "bd636b49fb314e82bf89760957791776",
            "81cc3e932e1141859cd5bb2a44e56c0f",
            "455b262b127347a8acb31bc0219de7cc",
            "710128a5a0da48d681df967129208dbb",
            "52836943c77b4ad781c2b6519ca56e2f",
            "aa08f28bc49141df93afdc4feae636dd",
            "d829ee7905ec45c6b6c5c533a82f638a",
            "3b0b50d2d5124a0ba0ba013ccb97dcc3",
            "5e3dbd88b98e42339620dcfed6c694bf",
            "e0589cc03aca46ab94044ffb08c7628a",
            "2fd3abd8826f4ee2b9f9c1dd66d0338b",
            "430e676662b540ad90cbd53787401a6b",
            "b65f5f1220da45db90e44e68280e05f7",
            "25c0e7d70adc42bdb02f75fad3e2e2c0",
            "b73552ebe0414ad1ace8fb0af0535d46",
            "672e97e2355443ba8526faa511bb2c02",
            "ca4dd7a93e314acca340740af2c95ad6",
            "de97343ec2e34a51aa9ad766841a522f",
            "1628242f3efc4155b0a5d2fc22548e82",
            "e7de44678b0548b79586737080160b11",
            "012887bca3a34948b6c023116e3cb3c0",
            "fc746a7d79d5468b823b9f30d2bcf4f4",
            "919239f176ef4a73a4682f9f15691bc6",
            "72301affc189484097f53d847da115bc",
            "076f534b03a546b3bbcb11d57b830f29",
            "fe5b77ad92f84b26a9a9451e86cbfdbc",
            "1888d78664894fceab22e84ea3e69879",
            "18abb794565e4d818535f42a6d6b8fcf",
            "844342107b2146c780caa4ad2ad3c827",
            "ee7bd97b249b4057b174377d8ae81fc1",
            "7f1c008637ff4008b405072b1f6bae92",
            "78a7edfb9203436f9d553bd0e98f06bf",
            "1618d50c9f9a4b2894636f605b59aa70",
            "909ee3e05a65454aa3dd0b38c2d09440",
            "5bde2c2f13d54dcfbc67972f86fa5164",
            "f296fb095491458ca2edc3d5f70abb5b",
            "e0ee73aa26714259a6cb1455c1011f22",
            "eba2acaadd104130896b3a4fa318a387",
            "39beaf133d8a4cf8ad5f24958a090f4b",
            "6d47d7108aa940ffbeee63da52d38170",
            "ec1096fe6f204bf89b8daa3e1f7394a1",
            "29e2b2471d8e4ab4b347af591613f62d",
            "1d17adde7fc1409fb6ba22aace58cd9a",
            "5cd1f707dc1a45e6a1d1d62c1bb5b6f8",
            "32762f238f084c158bf4826615856269",
            "ba61c056848b44a2aabc216f55a820cd",
            "cf21d6bf96c24af8b510f6d2de567de8",
            "8cec422214cd4eee93b4f8da65abc355",
            "7c3c9464cca642ef9995b1e9897acc9f",
            "957c4fe680d4428f972046fd3aecbeff",
            "724aa8de9ee14cd680a5b8767f6e8a7a",
            "608060b2b0844af2a4e113ab64036793",
            "ab24cfac93ea472798f8ca85c9e08c8c",
            "782a01edb791433cb7317ac24f39dd73",
            "a74f7f4feea84378b86651d841ad1121",
            "2f8c7acbb8094b41a108bbd289efd493",
            "34b6d397c85c4038ab8c0ae793a0af0f",
            "f110c2f1ed0044b8b8da8876d8f156e1",
            "b22c4e65321b488ba4dc2290ddf08b6d",
            "8fd3ab105aa8432b8e2556b8663cad01",
            "c6d7f354eff541dab94d2e0443a89545",
            "a251d3c8ec7e4c629faebc87c9e91989",
            "c62fca984e7840fe85d447fc946139d7",
            "1f2245f2ea5745a1bd38b06d85cd5938",
            "ab8be2b0b420497f945116ea97a5a1b1",
            "2a29bec67c434d4e9eb2929b7e5db51a",
            "4e66c9a7bb3f460d9dda64979956d670",
            "6172befb9c364321a65f2f8750162ee7",
            "ba3e7900e3d141aea7912317542279e0",
            "ed0dbd35b19c464180cbabb33016016d",
            "f506b1350e2f4f979f79f78049d300dd",
            "9e7c87e9192f48568003425563c6a603",
            "eca8e312c60840bab96818829609691e",
            "7144f65dca2a477791667b833c285422",
            "d94bc719bd59475a9bc19df73d2acac1",
            "7923b4dbc8574b9092b917161ad5a3e9",
            "ea3252dfb3a842239bbbf3e001ead6a5",
            "8affc01842954430b4dd9d0fc7068146",
            "a5b7612e062d4bd393f5855e781a46a1",
            "5b21451a6e854c629e9a5218f24e6a5a",
            "ca1bf93296ee450dbcd8d16f4a5de38e",
            "aa98947ddd5149429cacc970df650795",
            "f6908655401d46669745a6a41414851d",
            "f11fc6061ba04e51a5f19a96c6e0e79e",
            "b69fa06130f94a9d8754a8b48e031a52",
            "3c9aa45bd71042d892d7953a3d107a43",
            "73736dd7230346188ed05e9a324b6e1d",
            "bcc0f3d9ad88439e91645bb464167bea",
            "635beea6d39e4e9ca2f13e3231dabc66",
            "c9c11c72bd49498b95c78d9b9222352c",
            "328989f76d0842e5a0839fc3f6aeb849",
            "d97c413bc4724d9dbcd5c0a5ef098539",
            "ca0f91999d2c42ffb8f94d92978f32e9",
            "fa81bde12bcf4e0dac8c4db44007e813",
            "c498b8f3022b4b7a980e0b5d3d8cf685",
            "88718cb270f249a181522d7d9f258ec6",
            "d7f0f68ff6e34e89a67a0abe44f5eb9a",
            "d70354357f28484cb926e36bd7e5349a",
            "8904dbedf66942a7adc69427b14c51bb",
            "25157b0fdec7488c8d5a15ddb6830252",
            "e62aaf68325741cc9900fad4b85ff116",
            "2fd6baede81d45f79c89c6227a52f62a",
            "028050cb057c49c798846f7a063ea227",
            "18280e68bc4246f6b4af78f8807716e7",
            "435a0d6386a542df88c907874953ac5c",
            "b3e00c9dcef54a70bf36dfbc919a085f",
            "2de14647e1e945d896647384d3ce3487",
            "8ac018aebbb74415bc5c9a35ddae87c0",
            "4708ae0f9b294a65b322692c5310acfa"
          ]
        },
        "id": "MSjxSDuL3Mqj",
        "outputId": "a9c65b0d-779a-4fc6-bc8e-e4154c6b2e11"
      },
      "id": "MSjxSDuL3Mqj",
      "execution_count": null,
      "outputs": [
        {
          "output_type": "display_data",
          "data": {
            "text/plain": [
              "  0%|          | 0/300 [00:00<?, ?it/s]"
            ],
            "application/vnd.jupyter.widget-view+json": {
              "version_major": 2,
              "version_minor": 0,
              "model_id": "9585a333e7fa4cd99759675d6837946c"
            }
          },
          "metadata": {}
        },
        {
          "output_type": "display_data",
          "data": {
            "text/plain": [
              "<IPython.core.display.Javascript object>"
            ],
            "application/javascript": [
              "\n",
              "    async function download(id, filename, size) {\n",
              "      if (!google.colab.kernel.accessAllowed) {\n",
              "        return;\n",
              "      }\n",
              "      const div = document.createElement('div');\n",
              "      const label = document.createElement('label');\n",
              "      label.textContent = `Downloading \"${filename}\": `;\n",
              "      div.appendChild(label);\n",
              "      const progress = document.createElement('progress');\n",
              "      progress.max = size;\n",
              "      div.appendChild(progress);\n",
              "      document.body.appendChild(div);\n",
              "\n",
              "      const buffers = [];\n",
              "      let downloaded = 0;\n",
              "\n",
              "      const channel = await google.colab.kernel.comms.open(id);\n",
              "      // Send a message to notify the kernel that we're ready.\n",
              "      channel.send({})\n",
              "\n",
              "      for await (const message of channel.messages) {\n",
              "        // Send a message to notify the kernel that we're ready.\n",
              "        channel.send({})\n",
              "        if (message.buffers) {\n",
              "          for (const buffer of message.buffers) {\n",
              "            buffers.push(buffer);\n",
              "            downloaded += buffer.byteLength;\n",
              "            progress.value = downloaded;\n",
              "          }\n",
              "        }\n",
              "      }\n",
              "      const blob = new Blob(buffers, {type: 'application/binary'});\n",
              "      const a = document.createElement('a');\n",
              "      a.href = window.URL.createObjectURL(blob);\n",
              "      a.download = filename;\n",
              "      div.appendChild(a);\n",
              "      a.click();\n",
              "      div.remove();\n",
              "    }\n",
              "  "
            ]
          },
          "metadata": {}
        },
        {
          "output_type": "display_data",
          "data": {
            "text/plain": [
              "<IPython.core.display.Javascript object>"
            ],
            "application/javascript": [
              "download(\"download_641d50c8-b133-4da6-8abf-02acf63252fa\", \"log_2_1.json\", 38513)"
            ]
          },
          "metadata": {}
        },
        {
          "output_type": "display_data",
          "data": {
            "text/plain": [
              "  0%|          | 0/300 [00:00<?, ?it/s]"
            ],
            "application/vnd.jupyter.widget-view+json": {
              "version_major": 2,
              "version_minor": 0,
              "model_id": "35639971065346e9a98f8b373cfc3710"
            }
          },
          "metadata": {}
        },
        {
          "output_type": "display_data",
          "data": {
            "text/plain": [
              "<IPython.core.display.Javascript object>"
            ],
            "application/javascript": [
              "\n",
              "    async function download(id, filename, size) {\n",
              "      if (!google.colab.kernel.accessAllowed) {\n",
              "        return;\n",
              "      }\n",
              "      const div = document.createElement('div');\n",
              "      const label = document.createElement('label');\n",
              "      label.textContent = `Downloading \"${filename}\": `;\n",
              "      div.appendChild(label);\n",
              "      const progress = document.createElement('progress');\n",
              "      progress.max = size;\n",
              "      div.appendChild(progress);\n",
              "      document.body.appendChild(div);\n",
              "\n",
              "      const buffers = [];\n",
              "      let downloaded = 0;\n",
              "\n",
              "      const channel = await google.colab.kernel.comms.open(id);\n",
              "      // Send a message to notify the kernel that we're ready.\n",
              "      channel.send({})\n",
              "\n",
              "      for await (const message of channel.messages) {\n",
              "        // Send a message to notify the kernel that we're ready.\n",
              "        channel.send({})\n",
              "        if (message.buffers) {\n",
              "          for (const buffer of message.buffers) {\n",
              "            buffers.push(buffer);\n",
              "            downloaded += buffer.byteLength;\n",
              "            progress.value = downloaded;\n",
              "          }\n",
              "        }\n",
              "      }\n",
              "      const blob = new Blob(buffers, {type: 'application/binary'});\n",
              "      const a = document.createElement('a');\n",
              "      a.href = window.URL.createObjectURL(blob);\n",
              "      a.download = filename;\n",
              "      div.appendChild(a);\n",
              "      a.click();\n",
              "      div.remove();\n",
              "    }\n",
              "  "
            ]
          },
          "metadata": {}
        },
        {
          "output_type": "display_data",
          "data": {
            "text/plain": [
              "<IPython.core.display.Javascript object>"
            ],
            "application/javascript": [
              "download(\"download_39b8b212-b627-48d3-b1ad-f5b4849a97d6\", \"log_4_1.json\", 36644)"
            ]
          },
          "metadata": {}
        },
        {
          "output_type": "display_data",
          "data": {
            "text/plain": [
              "  0%|          | 0/300 [00:00<?, ?it/s]"
            ],
            "application/vnd.jupyter.widget-view+json": {
              "version_major": 2,
              "version_minor": 0,
              "model_id": "d6d0a4bb91864d1f81b8237fd8559347"
            }
          },
          "metadata": {}
        },
        {
          "output_type": "display_data",
          "data": {
            "text/plain": [
              "<IPython.core.display.Javascript object>"
            ],
            "application/javascript": [
              "\n",
              "    async function download(id, filename, size) {\n",
              "      if (!google.colab.kernel.accessAllowed) {\n",
              "        return;\n",
              "      }\n",
              "      const div = document.createElement('div');\n",
              "      const label = document.createElement('label');\n",
              "      label.textContent = `Downloading \"${filename}\": `;\n",
              "      div.appendChild(label);\n",
              "      const progress = document.createElement('progress');\n",
              "      progress.max = size;\n",
              "      div.appendChild(progress);\n",
              "      document.body.appendChild(div);\n",
              "\n",
              "      const buffers = [];\n",
              "      let downloaded = 0;\n",
              "\n",
              "      const channel = await google.colab.kernel.comms.open(id);\n",
              "      // Send a message to notify the kernel that we're ready.\n",
              "      channel.send({})\n",
              "\n",
              "      for await (const message of channel.messages) {\n",
              "        // Send a message to notify the kernel that we're ready.\n",
              "        channel.send({})\n",
              "        if (message.buffers) {\n",
              "          for (const buffer of message.buffers) {\n",
              "            buffers.push(buffer);\n",
              "            downloaded += buffer.byteLength;\n",
              "            progress.value = downloaded;\n",
              "          }\n",
              "        }\n",
              "      }\n",
              "      const blob = new Blob(buffers, {type: 'application/binary'});\n",
              "      const a = document.createElement('a');\n",
              "      a.href = window.URL.createObjectURL(blob);\n",
              "      a.download = filename;\n",
              "      div.appendChild(a);\n",
              "      a.click();\n",
              "      div.remove();\n",
              "    }\n",
              "  "
            ]
          },
          "metadata": {}
        },
        {
          "output_type": "display_data",
          "data": {
            "text/plain": [
              "<IPython.core.display.Javascript object>"
            ],
            "application/javascript": [
              "download(\"download_1ea29f7f-1ff0-45c7-aa79-3a2edb952cb2\", \"log_6_1.json\", 36071)"
            ]
          },
          "metadata": {}
        },
        {
          "output_type": "display_data",
          "data": {
            "text/plain": [
              "  0%|          | 0/300 [00:00<?, ?it/s]"
            ],
            "application/vnd.jupyter.widget-view+json": {
              "version_major": 2,
              "version_minor": 0,
              "model_id": "370d273d3d3742d09d5424e5216cc794"
            }
          },
          "metadata": {}
        },
        {
          "output_type": "display_data",
          "data": {
            "text/plain": [
              "<IPython.core.display.Javascript object>"
            ],
            "application/javascript": [
              "\n",
              "    async function download(id, filename, size) {\n",
              "      if (!google.colab.kernel.accessAllowed) {\n",
              "        return;\n",
              "      }\n",
              "      const div = document.createElement('div');\n",
              "      const label = document.createElement('label');\n",
              "      label.textContent = `Downloading \"${filename}\": `;\n",
              "      div.appendChild(label);\n",
              "      const progress = document.createElement('progress');\n",
              "      progress.max = size;\n",
              "      div.appendChild(progress);\n",
              "      document.body.appendChild(div);\n",
              "\n",
              "      const buffers = [];\n",
              "      let downloaded = 0;\n",
              "\n",
              "      const channel = await google.colab.kernel.comms.open(id);\n",
              "      // Send a message to notify the kernel that we're ready.\n",
              "      channel.send({})\n",
              "\n",
              "      for await (const message of channel.messages) {\n",
              "        // Send a message to notify the kernel that we're ready.\n",
              "        channel.send({})\n",
              "        if (message.buffers) {\n",
              "          for (const buffer of message.buffers) {\n",
              "            buffers.push(buffer);\n",
              "            downloaded += buffer.byteLength;\n",
              "            progress.value = downloaded;\n",
              "          }\n",
              "        }\n",
              "      }\n",
              "      const blob = new Blob(buffers, {type: 'application/binary'});\n",
              "      const a = document.createElement('a');\n",
              "      a.href = window.URL.createObjectURL(blob);\n",
              "      a.download = filename;\n",
              "      div.appendChild(a);\n",
              "      a.click();\n",
              "      div.remove();\n",
              "    }\n",
              "  "
            ]
          },
          "metadata": {}
        },
        {
          "output_type": "display_data",
          "data": {
            "text/plain": [
              "<IPython.core.display.Javascript object>"
            ],
            "application/javascript": [
              "download(\"download_d6fa8fb5-780e-4139-9550-dc67885b5775\", \"log_8_1.json\", 36186)"
            ]
          },
          "metadata": {}
        },
        {
          "output_type": "display_data",
          "data": {
            "text/plain": [
              "  0%|          | 0/300 [00:00<?, ?it/s]"
            ],
            "application/vnd.jupyter.widget-view+json": {
              "version_major": 2,
              "version_minor": 0,
              "model_id": "d4182797db504776ba91488f6cbd9380"
            }
          },
          "metadata": {}
        },
        {
          "output_type": "display_data",
          "data": {
            "text/plain": [
              "<IPython.core.display.Javascript object>"
            ],
            "application/javascript": [
              "\n",
              "    async function download(id, filename, size) {\n",
              "      if (!google.colab.kernel.accessAllowed) {\n",
              "        return;\n",
              "      }\n",
              "      const div = document.createElement('div');\n",
              "      const label = document.createElement('label');\n",
              "      label.textContent = `Downloading \"${filename}\": `;\n",
              "      div.appendChild(label);\n",
              "      const progress = document.createElement('progress');\n",
              "      progress.max = size;\n",
              "      div.appendChild(progress);\n",
              "      document.body.appendChild(div);\n",
              "\n",
              "      const buffers = [];\n",
              "      let downloaded = 0;\n",
              "\n",
              "      const channel = await google.colab.kernel.comms.open(id);\n",
              "      // Send a message to notify the kernel that we're ready.\n",
              "      channel.send({})\n",
              "\n",
              "      for await (const message of channel.messages) {\n",
              "        // Send a message to notify the kernel that we're ready.\n",
              "        channel.send({})\n",
              "        if (message.buffers) {\n",
              "          for (const buffer of message.buffers) {\n",
              "            buffers.push(buffer);\n",
              "            downloaded += buffer.byteLength;\n",
              "            progress.value = downloaded;\n",
              "          }\n",
              "        }\n",
              "      }\n",
              "      const blob = new Blob(buffers, {type: 'application/binary'});\n",
              "      const a = document.createElement('a');\n",
              "      a.href = window.URL.createObjectURL(blob);\n",
              "      a.download = filename;\n",
              "      div.appendChild(a);\n",
              "      a.click();\n",
              "      div.remove();\n",
              "    }\n",
              "  "
            ]
          },
          "metadata": {}
        },
        {
          "output_type": "display_data",
          "data": {
            "text/plain": [
              "<IPython.core.display.Javascript object>"
            ],
            "application/javascript": [
              "download(\"download_c2cb2394-a7be-4f17-ae2a-f7661336dd08\", \"log_10_1.json\", 35922)"
            ]
          },
          "metadata": {}
        },
        {
          "output_type": "display_data",
          "data": {
            "text/plain": [
              "  0%|          | 0/300 [00:00<?, ?it/s]"
            ],
            "application/vnd.jupyter.widget-view+json": {
              "version_major": 2,
              "version_minor": 0,
              "model_id": "cc5199a28dcd4588bfc406ad7b60f675"
            }
          },
          "metadata": {}
        },
        {
          "output_type": "display_data",
          "data": {
            "text/plain": [
              "<IPython.core.display.Javascript object>"
            ],
            "application/javascript": [
              "\n",
              "    async function download(id, filename, size) {\n",
              "      if (!google.colab.kernel.accessAllowed) {\n",
              "        return;\n",
              "      }\n",
              "      const div = document.createElement('div');\n",
              "      const label = document.createElement('label');\n",
              "      label.textContent = `Downloading \"${filename}\": `;\n",
              "      div.appendChild(label);\n",
              "      const progress = document.createElement('progress');\n",
              "      progress.max = size;\n",
              "      div.appendChild(progress);\n",
              "      document.body.appendChild(div);\n",
              "\n",
              "      const buffers = [];\n",
              "      let downloaded = 0;\n",
              "\n",
              "      const channel = await google.colab.kernel.comms.open(id);\n",
              "      // Send a message to notify the kernel that we're ready.\n",
              "      channel.send({})\n",
              "\n",
              "      for await (const message of channel.messages) {\n",
              "        // Send a message to notify the kernel that we're ready.\n",
              "        channel.send({})\n",
              "        if (message.buffers) {\n",
              "          for (const buffer of message.buffers) {\n",
              "            buffers.push(buffer);\n",
              "            downloaded += buffer.byteLength;\n",
              "            progress.value = downloaded;\n",
              "          }\n",
              "        }\n",
              "      }\n",
              "      const blob = new Blob(buffers, {type: 'application/binary'});\n",
              "      const a = document.createElement('a');\n",
              "      a.href = window.URL.createObjectURL(blob);\n",
              "      a.download = filename;\n",
              "      div.appendChild(a);\n",
              "      a.click();\n",
              "      div.remove();\n",
              "    }\n",
              "  "
            ]
          },
          "metadata": {}
        },
        {
          "output_type": "display_data",
          "data": {
            "text/plain": [
              "<IPython.core.display.Javascript object>"
            ],
            "application/javascript": [
              "download(\"download_1f9b2a36-ffe5-4e6f-a311-2ba701bb7750\", \"log_12_1.json\", 36187)"
            ]
          },
          "metadata": {}
        },
        {
          "output_type": "display_data",
          "data": {
            "text/plain": [
              "  0%|          | 0/300 [00:00<?, ?it/s]"
            ],
            "application/vnd.jupyter.widget-view+json": {
              "version_major": 2,
              "version_minor": 0,
              "model_id": "aa6571626ee54cbeb5e0825034e42927"
            }
          },
          "metadata": {}
        },
        {
          "output_type": "display_data",
          "data": {
            "text/plain": [
              "<IPython.core.display.Javascript object>"
            ],
            "application/javascript": [
              "\n",
              "    async function download(id, filename, size) {\n",
              "      if (!google.colab.kernel.accessAllowed) {\n",
              "        return;\n",
              "      }\n",
              "      const div = document.createElement('div');\n",
              "      const label = document.createElement('label');\n",
              "      label.textContent = `Downloading \"${filename}\": `;\n",
              "      div.appendChild(label);\n",
              "      const progress = document.createElement('progress');\n",
              "      progress.max = size;\n",
              "      div.appendChild(progress);\n",
              "      document.body.appendChild(div);\n",
              "\n",
              "      const buffers = [];\n",
              "      let downloaded = 0;\n",
              "\n",
              "      const channel = await google.colab.kernel.comms.open(id);\n",
              "      // Send a message to notify the kernel that we're ready.\n",
              "      channel.send({})\n",
              "\n",
              "      for await (const message of channel.messages) {\n",
              "        // Send a message to notify the kernel that we're ready.\n",
              "        channel.send({})\n",
              "        if (message.buffers) {\n",
              "          for (const buffer of message.buffers) {\n",
              "            buffers.push(buffer);\n",
              "            downloaded += buffer.byteLength;\n",
              "            progress.value = downloaded;\n",
              "          }\n",
              "        }\n",
              "      }\n",
              "      const blob = new Blob(buffers, {type: 'application/binary'});\n",
              "      const a = document.createElement('a');\n",
              "      a.href = window.URL.createObjectURL(blob);\n",
              "      a.download = filename;\n",
              "      div.appendChild(a);\n",
              "      a.click();\n",
              "      div.remove();\n",
              "    }\n",
              "  "
            ]
          },
          "metadata": {}
        },
        {
          "output_type": "display_data",
          "data": {
            "text/plain": [
              "<IPython.core.display.Javascript object>"
            ],
            "application/javascript": [
              "download(\"download_29fb44e9-6905-4994-af16-af2c56828271\", \"log_14_1.json\", 36049)"
            ]
          },
          "metadata": {}
        },
        {
          "output_type": "display_data",
          "data": {
            "text/plain": [
              "  0%|          | 0/300 [00:00<?, ?it/s]"
            ],
            "application/vnd.jupyter.widget-view+json": {
              "version_major": 2,
              "version_minor": 0,
              "model_id": "1cd7dd5796714c1bb00d8b5aff0b2c1f"
            }
          },
          "metadata": {}
        },
        {
          "output_type": "display_data",
          "data": {
            "text/plain": [
              "<IPython.core.display.Javascript object>"
            ],
            "application/javascript": [
              "\n",
              "    async function download(id, filename, size) {\n",
              "      if (!google.colab.kernel.accessAllowed) {\n",
              "        return;\n",
              "      }\n",
              "      const div = document.createElement('div');\n",
              "      const label = document.createElement('label');\n",
              "      label.textContent = `Downloading \"${filename}\": `;\n",
              "      div.appendChild(label);\n",
              "      const progress = document.createElement('progress');\n",
              "      progress.max = size;\n",
              "      div.appendChild(progress);\n",
              "      document.body.appendChild(div);\n",
              "\n",
              "      const buffers = [];\n",
              "      let downloaded = 0;\n",
              "\n",
              "      const channel = await google.colab.kernel.comms.open(id);\n",
              "      // Send a message to notify the kernel that we're ready.\n",
              "      channel.send({})\n",
              "\n",
              "      for await (const message of channel.messages) {\n",
              "        // Send a message to notify the kernel that we're ready.\n",
              "        channel.send({})\n",
              "        if (message.buffers) {\n",
              "          for (const buffer of message.buffers) {\n",
              "            buffers.push(buffer);\n",
              "            downloaded += buffer.byteLength;\n",
              "            progress.value = downloaded;\n",
              "          }\n",
              "        }\n",
              "      }\n",
              "      const blob = new Blob(buffers, {type: 'application/binary'});\n",
              "      const a = document.createElement('a');\n",
              "      a.href = window.URL.createObjectURL(blob);\n",
              "      a.download = filename;\n",
              "      div.appendChild(a);\n",
              "      a.click();\n",
              "      div.remove();\n",
              "    }\n",
              "  "
            ]
          },
          "metadata": {}
        },
        {
          "output_type": "display_data",
          "data": {
            "text/plain": [
              "<IPython.core.display.Javascript object>"
            ],
            "application/javascript": [
              "download(\"download_05ba2fc7-652c-40ec-832a-607ea9aaea4a\", \"log_16_1.json\", 35982)"
            ]
          },
          "metadata": {}
        },
        {
          "output_type": "display_data",
          "data": {
            "text/plain": [
              "  0%|          | 0/300 [00:00<?, ?it/s]"
            ],
            "application/vnd.jupyter.widget-view+json": {
              "version_major": 2,
              "version_minor": 0,
              "model_id": "2e01b3879ba444769118f3bb16fe00b0"
            }
          },
          "metadata": {}
        },
        {
          "output_type": "display_data",
          "data": {
            "text/plain": [
              "<IPython.core.display.Javascript object>"
            ],
            "application/javascript": [
              "\n",
              "    async function download(id, filename, size) {\n",
              "      if (!google.colab.kernel.accessAllowed) {\n",
              "        return;\n",
              "      }\n",
              "      const div = document.createElement('div');\n",
              "      const label = document.createElement('label');\n",
              "      label.textContent = `Downloading \"${filename}\": `;\n",
              "      div.appendChild(label);\n",
              "      const progress = document.createElement('progress');\n",
              "      progress.max = size;\n",
              "      div.appendChild(progress);\n",
              "      document.body.appendChild(div);\n",
              "\n",
              "      const buffers = [];\n",
              "      let downloaded = 0;\n",
              "\n",
              "      const channel = await google.colab.kernel.comms.open(id);\n",
              "      // Send a message to notify the kernel that we're ready.\n",
              "      channel.send({})\n",
              "\n",
              "      for await (const message of channel.messages) {\n",
              "        // Send a message to notify the kernel that we're ready.\n",
              "        channel.send({})\n",
              "        if (message.buffers) {\n",
              "          for (const buffer of message.buffers) {\n",
              "            buffers.push(buffer);\n",
              "            downloaded += buffer.byteLength;\n",
              "            progress.value = downloaded;\n",
              "          }\n",
              "        }\n",
              "      }\n",
              "      const blob = new Blob(buffers, {type: 'application/binary'});\n",
              "      const a = document.createElement('a');\n",
              "      a.href = window.URL.createObjectURL(blob);\n",
              "      a.download = filename;\n",
              "      div.appendChild(a);\n",
              "      a.click();\n",
              "      div.remove();\n",
              "    }\n",
              "  "
            ]
          },
          "metadata": {}
        },
        {
          "output_type": "display_data",
          "data": {
            "text/plain": [
              "<IPython.core.display.Javascript object>"
            ],
            "application/javascript": [
              "download(\"download_41ea75f1-fe10-4c04-a5c7-75e08d58fd0c\", \"log_18_1.json\", 36476)"
            ]
          },
          "metadata": {}
        },
        {
          "output_type": "display_data",
          "data": {
            "text/plain": [
              "  0%|          | 0/300 [00:00<?, ?it/s]"
            ],
            "application/vnd.jupyter.widget-view+json": {
              "version_major": 2,
              "version_minor": 0,
              "model_id": "7cdc39278ad44f25ac96666246737b15"
            }
          },
          "metadata": {}
        },
        {
          "output_type": "display_data",
          "data": {
            "text/plain": [
              "<IPython.core.display.Javascript object>"
            ],
            "application/javascript": [
              "\n",
              "    async function download(id, filename, size) {\n",
              "      if (!google.colab.kernel.accessAllowed) {\n",
              "        return;\n",
              "      }\n",
              "      const div = document.createElement('div');\n",
              "      const label = document.createElement('label');\n",
              "      label.textContent = `Downloading \"${filename}\": `;\n",
              "      div.appendChild(label);\n",
              "      const progress = document.createElement('progress');\n",
              "      progress.max = size;\n",
              "      div.appendChild(progress);\n",
              "      document.body.appendChild(div);\n",
              "\n",
              "      const buffers = [];\n",
              "      let downloaded = 0;\n",
              "\n",
              "      const channel = await google.colab.kernel.comms.open(id);\n",
              "      // Send a message to notify the kernel that we're ready.\n",
              "      channel.send({})\n",
              "\n",
              "      for await (const message of channel.messages) {\n",
              "        // Send a message to notify the kernel that we're ready.\n",
              "        channel.send({})\n",
              "        if (message.buffers) {\n",
              "          for (const buffer of message.buffers) {\n",
              "            buffers.push(buffer);\n",
              "            downloaded += buffer.byteLength;\n",
              "            progress.value = downloaded;\n",
              "          }\n",
              "        }\n",
              "      }\n",
              "      const blob = new Blob(buffers, {type: 'application/binary'});\n",
              "      const a = document.createElement('a');\n",
              "      a.href = window.URL.createObjectURL(blob);\n",
              "      a.download = filename;\n",
              "      div.appendChild(a);\n",
              "      a.click();\n",
              "      div.remove();\n",
              "    }\n",
              "  "
            ]
          },
          "metadata": {}
        },
        {
          "output_type": "display_data",
          "data": {
            "text/plain": [
              "<IPython.core.display.Javascript object>"
            ],
            "application/javascript": [
              "download(\"download_87af849d-0131-4a88-84e1-84f5adbe1e37\", \"log_20_1.json\", 36423)"
            ]
          },
          "metadata": {}
        },
        {
          "output_type": "display_data",
          "data": {
            "text/plain": [
              "  0%|          | 0/300 [00:00<?, ?it/s]"
            ],
            "application/vnd.jupyter.widget-view+json": {
              "version_major": 2,
              "version_minor": 0,
              "model_id": "2fd3abd8826f4ee2b9f9c1dd66d0338b"
            }
          },
          "metadata": {}
        },
        {
          "output_type": "display_data",
          "data": {
            "text/plain": [
              "<IPython.core.display.Javascript object>"
            ],
            "application/javascript": [
              "\n",
              "    async function download(id, filename, size) {\n",
              "      if (!google.colab.kernel.accessAllowed) {\n",
              "        return;\n",
              "      }\n",
              "      const div = document.createElement('div');\n",
              "      const label = document.createElement('label');\n",
              "      label.textContent = `Downloading \"${filename}\": `;\n",
              "      div.appendChild(label);\n",
              "      const progress = document.createElement('progress');\n",
              "      progress.max = size;\n",
              "      div.appendChild(progress);\n",
              "      document.body.appendChild(div);\n",
              "\n",
              "      const buffers = [];\n",
              "      let downloaded = 0;\n",
              "\n",
              "      const channel = await google.colab.kernel.comms.open(id);\n",
              "      // Send a message to notify the kernel that we're ready.\n",
              "      channel.send({})\n",
              "\n",
              "      for await (const message of channel.messages) {\n",
              "        // Send a message to notify the kernel that we're ready.\n",
              "        channel.send({})\n",
              "        if (message.buffers) {\n",
              "          for (const buffer of message.buffers) {\n",
              "            buffers.push(buffer);\n",
              "            downloaded += buffer.byteLength;\n",
              "            progress.value = downloaded;\n",
              "          }\n",
              "        }\n",
              "      }\n",
              "      const blob = new Blob(buffers, {type: 'application/binary'});\n",
              "      const a = document.createElement('a');\n",
              "      a.href = window.URL.createObjectURL(blob);\n",
              "      a.download = filename;\n",
              "      div.appendChild(a);\n",
              "      a.click();\n",
              "      div.remove();\n",
              "    }\n",
              "  "
            ]
          },
          "metadata": {}
        },
        {
          "output_type": "display_data",
          "data": {
            "text/plain": [
              "<IPython.core.display.Javascript object>"
            ],
            "application/javascript": [
              "download(\"download_c0fb04be-0226-421a-886f-7cc5a9419e31\", \"log_22_1.json\", 36384)"
            ]
          },
          "metadata": {}
        },
        {
          "output_type": "display_data",
          "data": {
            "text/plain": [
              "  0%|          | 0/300 [00:00<?, ?it/s]"
            ],
            "application/vnd.jupyter.widget-view+json": {
              "version_major": 2,
              "version_minor": 0,
              "model_id": "fc746a7d79d5468b823b9f30d2bcf4f4"
            }
          },
          "metadata": {}
        },
        {
          "output_type": "display_data",
          "data": {
            "text/plain": [
              "<IPython.core.display.Javascript object>"
            ],
            "application/javascript": [
              "\n",
              "    async function download(id, filename, size) {\n",
              "      if (!google.colab.kernel.accessAllowed) {\n",
              "        return;\n",
              "      }\n",
              "      const div = document.createElement('div');\n",
              "      const label = document.createElement('label');\n",
              "      label.textContent = `Downloading \"${filename}\": `;\n",
              "      div.appendChild(label);\n",
              "      const progress = document.createElement('progress');\n",
              "      progress.max = size;\n",
              "      div.appendChild(progress);\n",
              "      document.body.appendChild(div);\n",
              "\n",
              "      const buffers = [];\n",
              "      let downloaded = 0;\n",
              "\n",
              "      const channel = await google.colab.kernel.comms.open(id);\n",
              "      // Send a message to notify the kernel that we're ready.\n",
              "      channel.send({})\n",
              "\n",
              "      for await (const message of channel.messages) {\n",
              "        // Send a message to notify the kernel that we're ready.\n",
              "        channel.send({})\n",
              "        if (message.buffers) {\n",
              "          for (const buffer of message.buffers) {\n",
              "            buffers.push(buffer);\n",
              "            downloaded += buffer.byteLength;\n",
              "            progress.value = downloaded;\n",
              "          }\n",
              "        }\n",
              "      }\n",
              "      const blob = new Blob(buffers, {type: 'application/binary'});\n",
              "      const a = document.createElement('a');\n",
              "      a.href = window.URL.createObjectURL(blob);\n",
              "      a.download = filename;\n",
              "      div.appendChild(a);\n",
              "      a.click();\n",
              "      div.remove();\n",
              "    }\n",
              "  "
            ]
          },
          "metadata": {}
        },
        {
          "output_type": "display_data",
          "data": {
            "text/plain": [
              "<IPython.core.display.Javascript object>"
            ],
            "application/javascript": [
              "download(\"download_5af79f0a-f9dd-4cea-a57c-9adcb203bb30\", \"log_32_1.json\", 36640)"
            ]
          },
          "metadata": {}
        },
        {
          "output_type": "display_data",
          "data": {
            "text/plain": [
              "  0%|          | 0/300 [00:00<?, ?it/s]"
            ],
            "application/vnd.jupyter.widget-view+json": {
              "version_major": 2,
              "version_minor": 0,
              "model_id": "1618d50c9f9a4b2894636f605b59aa70"
            }
          },
          "metadata": {}
        },
        {
          "output_type": "display_data",
          "data": {
            "text/plain": [
              "<IPython.core.display.Javascript object>"
            ],
            "application/javascript": [
              "\n",
              "    async function download(id, filename, size) {\n",
              "      if (!google.colab.kernel.accessAllowed) {\n",
              "        return;\n",
              "      }\n",
              "      const div = document.createElement('div');\n",
              "      const label = document.createElement('label');\n",
              "      label.textContent = `Downloading \"${filename}\": `;\n",
              "      div.appendChild(label);\n",
              "      const progress = document.createElement('progress');\n",
              "      progress.max = size;\n",
              "      div.appendChild(progress);\n",
              "      document.body.appendChild(div);\n",
              "\n",
              "      const buffers = [];\n",
              "      let downloaded = 0;\n",
              "\n",
              "      const channel = await google.colab.kernel.comms.open(id);\n",
              "      // Send a message to notify the kernel that we're ready.\n",
              "      channel.send({})\n",
              "\n",
              "      for await (const message of channel.messages) {\n",
              "        // Send a message to notify the kernel that we're ready.\n",
              "        channel.send({})\n",
              "        if (message.buffers) {\n",
              "          for (const buffer of message.buffers) {\n",
              "            buffers.push(buffer);\n",
              "            downloaded += buffer.byteLength;\n",
              "            progress.value = downloaded;\n",
              "          }\n",
              "        }\n",
              "      }\n",
              "      const blob = new Blob(buffers, {type: 'application/binary'});\n",
              "      const a = document.createElement('a');\n",
              "      a.href = window.URL.createObjectURL(blob);\n",
              "      a.download = filename;\n",
              "      div.appendChild(a);\n",
              "      a.click();\n",
              "      div.remove();\n",
              "    }\n",
              "  "
            ]
          },
          "metadata": {}
        },
        {
          "output_type": "display_data",
          "data": {
            "text/plain": [
              "<IPython.core.display.Javascript object>"
            ],
            "application/javascript": [
              "download(\"download_4833470e-3766-43e5-9143-5cbd5c31c8d5\", \"log_42_1.json\", 36743)"
            ]
          },
          "metadata": {}
        },
        {
          "output_type": "display_data",
          "data": {
            "text/plain": [
              "  0%|          | 0/300 [00:00<?, ?it/s]"
            ],
            "application/vnd.jupyter.widget-view+json": {
              "version_major": 2,
              "version_minor": 0,
              "model_id": "5cd1f707dc1a45e6a1d1d62c1bb5b6f8"
            }
          },
          "metadata": {}
        },
        {
          "output_type": "display_data",
          "data": {
            "text/plain": [
              "<IPython.core.display.Javascript object>"
            ],
            "application/javascript": [
              "\n",
              "    async function download(id, filename, size) {\n",
              "      if (!google.colab.kernel.accessAllowed) {\n",
              "        return;\n",
              "      }\n",
              "      const div = document.createElement('div');\n",
              "      const label = document.createElement('label');\n",
              "      label.textContent = `Downloading \"${filename}\": `;\n",
              "      div.appendChild(label);\n",
              "      const progress = document.createElement('progress');\n",
              "      progress.max = size;\n",
              "      div.appendChild(progress);\n",
              "      document.body.appendChild(div);\n",
              "\n",
              "      const buffers = [];\n",
              "      let downloaded = 0;\n",
              "\n",
              "      const channel = await google.colab.kernel.comms.open(id);\n",
              "      // Send a message to notify the kernel that we're ready.\n",
              "      channel.send({})\n",
              "\n",
              "      for await (const message of channel.messages) {\n",
              "        // Send a message to notify the kernel that we're ready.\n",
              "        channel.send({})\n",
              "        if (message.buffers) {\n",
              "          for (const buffer of message.buffers) {\n",
              "            buffers.push(buffer);\n",
              "            downloaded += buffer.byteLength;\n",
              "            progress.value = downloaded;\n",
              "          }\n",
              "        }\n",
              "      }\n",
              "      const blob = new Blob(buffers, {type: 'application/binary'});\n",
              "      const a = document.createElement('a');\n",
              "      a.href = window.URL.createObjectURL(blob);\n",
              "      a.download = filename;\n",
              "      div.appendChild(a);\n",
              "      a.click();\n",
              "      div.remove();\n",
              "    }\n",
              "  "
            ]
          },
          "metadata": {}
        },
        {
          "output_type": "display_data",
          "data": {
            "text/plain": [
              "<IPython.core.display.Javascript object>"
            ],
            "application/javascript": [
              "download(\"download_c5a8650f-d23c-405f-9cb3-0d79ad1a902d\", \"log_52_1.json\", 36856)"
            ]
          },
          "metadata": {}
        },
        {
          "output_type": "display_data",
          "data": {
            "text/plain": [
              "  0%|          | 0/300 [00:00<?, ?it/s]"
            ],
            "application/vnd.jupyter.widget-view+json": {
              "version_major": 2,
              "version_minor": 0,
              "model_id": "a74f7f4feea84378b86651d841ad1121"
            }
          },
          "metadata": {}
        },
        {
          "output_type": "display_data",
          "data": {
            "text/plain": [
              "<IPython.core.display.Javascript object>"
            ],
            "application/javascript": [
              "\n",
              "    async function download(id, filename, size) {\n",
              "      if (!google.colab.kernel.accessAllowed) {\n",
              "        return;\n",
              "      }\n",
              "      const div = document.createElement('div');\n",
              "      const label = document.createElement('label');\n",
              "      label.textContent = `Downloading \"${filename}\": `;\n",
              "      div.appendChild(label);\n",
              "      const progress = document.createElement('progress');\n",
              "      progress.max = size;\n",
              "      div.appendChild(progress);\n",
              "      document.body.appendChild(div);\n",
              "\n",
              "      const buffers = [];\n",
              "      let downloaded = 0;\n",
              "\n",
              "      const channel = await google.colab.kernel.comms.open(id);\n",
              "      // Send a message to notify the kernel that we're ready.\n",
              "      channel.send({})\n",
              "\n",
              "      for await (const message of channel.messages) {\n",
              "        // Send a message to notify the kernel that we're ready.\n",
              "        channel.send({})\n",
              "        if (message.buffers) {\n",
              "          for (const buffer of message.buffers) {\n",
              "            buffers.push(buffer);\n",
              "            downloaded += buffer.byteLength;\n",
              "            progress.value = downloaded;\n",
              "          }\n",
              "        }\n",
              "      }\n",
              "      const blob = new Blob(buffers, {type: 'application/binary'});\n",
              "      const a = document.createElement('a');\n",
              "      a.href = window.URL.createObjectURL(blob);\n",
              "      a.download = filename;\n",
              "      div.appendChild(a);\n",
              "      a.click();\n",
              "      div.remove();\n",
              "    }\n",
              "  "
            ]
          },
          "metadata": {}
        },
        {
          "output_type": "display_data",
          "data": {
            "text/plain": [
              "<IPython.core.display.Javascript object>"
            ],
            "application/javascript": [
              "download(\"download_a0da6bd3-11e8-4a5a-ad23-8e37e1c8eefd\", \"log_62_1.json\", 36664)"
            ]
          },
          "metadata": {}
        },
        {
          "output_type": "display_data",
          "data": {
            "text/plain": [
              "  0%|          | 0/300 [00:00<?, ?it/s]"
            ],
            "application/vnd.jupyter.widget-view+json": {
              "version_major": 2,
              "version_minor": 0,
              "model_id": "2a29bec67c434d4e9eb2929b7e5db51a"
            }
          },
          "metadata": {}
        },
        {
          "output_type": "display_data",
          "data": {
            "text/plain": [
              "<IPython.core.display.Javascript object>"
            ],
            "application/javascript": [
              "\n",
              "    async function download(id, filename, size) {\n",
              "      if (!google.colab.kernel.accessAllowed) {\n",
              "        return;\n",
              "      }\n",
              "      const div = document.createElement('div');\n",
              "      const label = document.createElement('label');\n",
              "      label.textContent = `Downloading \"${filename}\": `;\n",
              "      div.appendChild(label);\n",
              "      const progress = document.createElement('progress');\n",
              "      progress.max = size;\n",
              "      div.appendChild(progress);\n",
              "      document.body.appendChild(div);\n",
              "\n",
              "      const buffers = [];\n",
              "      let downloaded = 0;\n",
              "\n",
              "      const channel = await google.colab.kernel.comms.open(id);\n",
              "      // Send a message to notify the kernel that we're ready.\n",
              "      channel.send({})\n",
              "\n",
              "      for await (const message of channel.messages) {\n",
              "        // Send a message to notify the kernel that we're ready.\n",
              "        channel.send({})\n",
              "        if (message.buffers) {\n",
              "          for (const buffer of message.buffers) {\n",
              "            buffers.push(buffer);\n",
              "            downloaded += buffer.byteLength;\n",
              "            progress.value = downloaded;\n",
              "          }\n",
              "        }\n",
              "      }\n",
              "      const blob = new Blob(buffers, {type: 'application/binary'});\n",
              "      const a = document.createElement('a');\n",
              "      a.href = window.URL.createObjectURL(blob);\n",
              "      a.download = filename;\n",
              "      div.appendChild(a);\n",
              "      a.click();\n",
              "      div.remove();\n",
              "    }\n",
              "  "
            ]
          },
          "metadata": {}
        },
        {
          "output_type": "display_data",
          "data": {
            "text/plain": [
              "<IPython.core.display.Javascript object>"
            ],
            "application/javascript": [
              "download(\"download_35ac1214-5e84-4d76-9a99-efbacdc80c0e\", \"log_72_1.json\", 36865)"
            ]
          },
          "metadata": {}
        },
        {
          "output_type": "display_data",
          "data": {
            "text/plain": [
              "  0%|          | 0/300 [00:00<?, ?it/s]"
            ],
            "application/vnd.jupyter.widget-view+json": {
              "version_major": 2,
              "version_minor": 0,
              "model_id": "ea3252dfb3a842239bbbf3e001ead6a5"
            }
          },
          "metadata": {}
        },
        {
          "output_type": "display_data",
          "data": {
            "text/plain": [
              "<IPython.core.display.Javascript object>"
            ],
            "application/javascript": [
              "\n",
              "    async function download(id, filename, size) {\n",
              "      if (!google.colab.kernel.accessAllowed) {\n",
              "        return;\n",
              "      }\n",
              "      const div = document.createElement('div');\n",
              "      const label = document.createElement('label');\n",
              "      label.textContent = `Downloading \"${filename}\": `;\n",
              "      div.appendChild(label);\n",
              "      const progress = document.createElement('progress');\n",
              "      progress.max = size;\n",
              "      div.appendChild(progress);\n",
              "      document.body.appendChild(div);\n",
              "\n",
              "      const buffers = [];\n",
              "      let downloaded = 0;\n",
              "\n",
              "      const channel = await google.colab.kernel.comms.open(id);\n",
              "      // Send a message to notify the kernel that we're ready.\n",
              "      channel.send({})\n",
              "\n",
              "      for await (const message of channel.messages) {\n",
              "        // Send a message to notify the kernel that we're ready.\n",
              "        channel.send({})\n",
              "        if (message.buffers) {\n",
              "          for (const buffer of message.buffers) {\n",
              "            buffers.push(buffer);\n",
              "            downloaded += buffer.byteLength;\n",
              "            progress.value = downloaded;\n",
              "          }\n",
              "        }\n",
              "      }\n",
              "      const blob = new Blob(buffers, {type: 'application/binary'});\n",
              "      const a = document.createElement('a');\n",
              "      a.href = window.URL.createObjectURL(blob);\n",
              "      a.download = filename;\n",
              "      div.appendChild(a);\n",
              "      a.click();\n",
              "      div.remove();\n",
              "    }\n",
              "  "
            ]
          },
          "metadata": {}
        },
        {
          "output_type": "display_data",
          "data": {
            "text/plain": [
              "<IPython.core.display.Javascript object>"
            ],
            "application/javascript": [
              "download(\"download_15c7bfe9-947a-4171-84df-e6ffde2c515d\", \"log_82_1.json\", 37226)"
            ]
          },
          "metadata": {}
        },
        {
          "output_type": "display_data",
          "data": {
            "text/plain": [
              "  0%|          | 0/300 [00:00<?, ?it/s]"
            ],
            "application/vnd.jupyter.widget-view+json": {
              "version_major": 2,
              "version_minor": 0,
              "model_id": "bcc0f3d9ad88439e91645bb464167bea"
            }
          },
          "metadata": {}
        },
        {
          "output_type": "display_data",
          "data": {
            "text/plain": [
              "<IPython.core.display.Javascript object>"
            ],
            "application/javascript": [
              "\n",
              "    async function download(id, filename, size) {\n",
              "      if (!google.colab.kernel.accessAllowed) {\n",
              "        return;\n",
              "      }\n",
              "      const div = document.createElement('div');\n",
              "      const label = document.createElement('label');\n",
              "      label.textContent = `Downloading \"${filename}\": `;\n",
              "      div.appendChild(label);\n",
              "      const progress = document.createElement('progress');\n",
              "      progress.max = size;\n",
              "      div.appendChild(progress);\n",
              "      document.body.appendChild(div);\n",
              "\n",
              "      const buffers = [];\n",
              "      let downloaded = 0;\n",
              "\n",
              "      const channel = await google.colab.kernel.comms.open(id);\n",
              "      // Send a message to notify the kernel that we're ready.\n",
              "      channel.send({})\n",
              "\n",
              "      for await (const message of channel.messages) {\n",
              "        // Send a message to notify the kernel that we're ready.\n",
              "        channel.send({})\n",
              "        if (message.buffers) {\n",
              "          for (const buffer of message.buffers) {\n",
              "            buffers.push(buffer);\n",
              "            downloaded += buffer.byteLength;\n",
              "            progress.value = downloaded;\n",
              "          }\n",
              "        }\n",
              "      }\n",
              "      const blob = new Blob(buffers, {type: 'application/binary'});\n",
              "      const a = document.createElement('a');\n",
              "      a.href = window.URL.createObjectURL(blob);\n",
              "      a.download = filename;\n",
              "      div.appendChild(a);\n",
              "      a.click();\n",
              "      div.remove();\n",
              "    }\n",
              "  "
            ]
          },
          "metadata": {}
        },
        {
          "output_type": "display_data",
          "data": {
            "text/plain": [
              "<IPython.core.display.Javascript object>"
            ],
            "application/javascript": [
              "download(\"download_e8fcda9e-d8c7-46af-836c-3d0c62dd829b\", \"log_92_1.json\", 37130)"
            ]
          },
          "metadata": {}
        },
        {
          "output_type": "display_data",
          "data": {
            "text/plain": [
              "  0%|          | 0/300 [00:00<?, ?it/s]"
            ],
            "application/vnd.jupyter.widget-view+json": {
              "version_major": 2,
              "version_minor": 0,
              "model_id": "8904dbedf66942a7adc69427b14c51bb"
            }
          },
          "metadata": {}
        },
        {
          "output_type": "display_data",
          "data": {
            "text/plain": [
              "<IPython.core.display.Javascript object>"
            ],
            "application/javascript": [
              "\n",
              "    async function download(id, filename, size) {\n",
              "      if (!google.colab.kernel.accessAllowed) {\n",
              "        return;\n",
              "      }\n",
              "      const div = document.createElement('div');\n",
              "      const label = document.createElement('label');\n",
              "      label.textContent = `Downloading \"${filename}\": `;\n",
              "      div.appendChild(label);\n",
              "      const progress = document.createElement('progress');\n",
              "      progress.max = size;\n",
              "      div.appendChild(progress);\n",
              "      document.body.appendChild(div);\n",
              "\n",
              "      const buffers = [];\n",
              "      let downloaded = 0;\n",
              "\n",
              "      const channel = await google.colab.kernel.comms.open(id);\n",
              "      // Send a message to notify the kernel that we're ready.\n",
              "      channel.send({})\n",
              "\n",
              "      for await (const message of channel.messages) {\n",
              "        // Send a message to notify the kernel that we're ready.\n",
              "        channel.send({})\n",
              "        if (message.buffers) {\n",
              "          for (const buffer of message.buffers) {\n",
              "            buffers.push(buffer);\n",
              "            downloaded += buffer.byteLength;\n",
              "            progress.value = downloaded;\n",
              "          }\n",
              "        }\n",
              "      }\n",
              "      const blob = new Blob(buffers, {type: 'application/binary'});\n",
              "      const a = document.createElement('a');\n",
              "      a.href = window.URL.createObjectURL(blob);\n",
              "      a.download = filename;\n",
              "      div.appendChild(a);\n",
              "      a.click();\n",
              "      div.remove();\n",
              "    }\n",
              "  "
            ]
          },
          "metadata": {}
        },
        {
          "output_type": "display_data",
          "data": {
            "text/plain": [
              "<IPython.core.display.Javascript object>"
            ],
            "application/javascript": [
              "download(\"download_25e9f111-7166-4e1d-8d40-acef10112ab8\", \"log_102_1.json\", 37127)"
            ]
          },
          "metadata": {}
        }
      ]
    },
    {
      "cell_type": "code",
      "source": [
        "#this cell saves computationnal times for NNQS to .json file\n",
        "nnqs_data = dict.fromkeys(nnqs_N_arr)\n",
        "for i, N in enumerate(nnqs_N_arr):\n",
        "    nnqs_data[N] = nn_times[i]\n",
        "print(nnqs_data)\n",
        "\n",
        "with open('nnqs1_times.json', 'w') as fp:\n",
        "    json.dump(nnqs_data, fp)"
      ],
      "metadata": {
        "colab": {
          "base_uri": "https://localhost:8080/"
        },
        "id": "LnVe3Hq1FY1E",
        "outputId": "1f4df51e-44fd-48ce-d11a-6d653c0f899f"
      },
      "id": "LnVe3Hq1FY1E",
      "execution_count": null,
      "outputs": [
        {
          "output_type": "stream",
          "name": "stdout",
          "text": [
            "{2: 8.719973802566528, 4: 10.512898921966553, 6: 10.851471185684204, 8: 12.082565307617188, 10: 17.977758646011353, 12: 19.228848218917847, 14: 22.570369005203247, 16: 27.152908086776733, 18: 28.53925323486328, 20: 30.712952375411987, 22: 32.73666501045227, 32: 44.83639335632324, 42: 63.0262234210968, 52: 85.37196135520935, 62: 110.96268105506897, 72: 129.64781427383423, 82: 170.41937565803528, 92: 198.74267959594727, 102: 231.72619009017944}\n"
          ]
        }
      ]
    },
    {
      "cell_type": "markdown",
      "source": [
        "# Symmetric part"
      ],
      "metadata": {
        "id": "1nT337AO2wUz"
      },
      "id": "1nT337AO2wUz"
    },
    {
      "cell_type": "code",
      "source": [
        "#this cell runs Symmetric NNQS and saves logs to .json files\n",
        "symm_times = []\n",
        "for N in nnqs_N_arr:\n",
        "    chain = Ising(N=int(N), l = 1, periodic=True)\n",
        "    sampler = nk.sampler.MetropolisLocal(chain.hi)\n",
        "    nn_model = SNN(N=chain.N, alpha=1, rngs=nnx.Rngs(0))\n",
        "    nn_vstate = nk.vqs.MCState(sampler, nn_model, n_samples=1024)\n",
        "    log, nn_time = NNQS_run(chain, nn_vstate, n_iter=300)\n",
        "    log.serialize(f'./log_{N}_{alpha}_symm')\n",
        "    files.download(f'./log_{N}_{alpha}_symm.json')\n",
        "    symm_times.append(nn_time)"
      ],
      "metadata": {
        "colab": {
          "base_uri": "https://localhost:8080/",
          "height": 957,
          "referenced_widgets": [
            "ee961f11af184b348c8da32ad0e0ebcc",
            "82c1550830fd4adc8bddc722bf07c2ba",
            "3f9cc0fe73d548818a234cd72d06f148",
            "a4fe6849cfc44562a08102e83ba12347",
            "b686c5271e744554ae24d2137a460d8d",
            "216f385a88cd41b09c70e5a0a652c59b",
            "c039eb9d38ba48c6ad4466900f298d69",
            "bc217b95a52646bc9ba48e41e224f4c5",
            "35f4a545d5c4475cbf396726e518c94d",
            "df8abfc90bc74976a34e894ee150346e",
            "85224b4ecea54a969f4c53c2d3a0b74b",
            "56be27796fc544d0af26eb81130b1ece",
            "61c1006f8f7b4d2896ad27d9273cbdd0",
            "d062e1d33a554cc683f503dbfcff1324",
            "005e5c0c6ee4455499ba00211039dd18",
            "8776f0bb48294ac89b1fe0c847e7086d",
            "a020e5fce69c48ec8b29006802545045",
            "2f99582f4fc94a968c00961d9bc80a18",
            "4f701efab6684536a41880d989849b4f",
            "3073387a834c42a5a1a9e049a7c5e6b8",
            "228106fbfda84f0b8820b6061ab92021",
            "ec8688f3eb0c47049f3b6225bf828a9d",
            "84c57e9147fd4a9cb8f8c1f033ea3418",
            "84b1a730d9d74544872b401076598486",
            "8ba9dba149874cf081963d0d79c6e930",
            "e1be2d8b41044fbbbdb1e6594b74d46b",
            "fc9df3a28c4e4c3e8c618db257fa6015",
            "e6557f48a9a14b9aa278d14232514ace",
            "8b55348c4be4417e83fe46b1563f43f8",
            "b305a012852e465ba72163955b328bb7",
            "5a8c35b592784f918201f00564163e89",
            "9e69a7c65fb348df906d44a4600e855e",
            "2b04c48df06944a891df81254b2dd883",
            "e3bded15d8984d6e8cb8aa6bdbc5f180",
            "389a9aebaf914d5fbfa79550f275cfcb",
            "fbb12638228c49068e74e53245502183",
            "aa3c5cf396824915b476454377733374",
            "28c223da27f845c3a94d3cf5b5e688ff",
            "c34aad8d500c46fba4ca2b66d6b2d804",
            "ded04d65b3264e6290b5257180b12a2c",
            "12b0b08a87114959b1fbc7bb2b4a4fe5",
            "cef840510ac347d38e2f214385fed45a",
            "a9583a433af747e2b7aca91a7f9048b1",
            "8d1d74db6b2e4bfa9f1ec248438e5304",
            "d88a9c4ac82d47bd915e16c2a40ed819",
            "ac91271fd95f4cdc802f3efdba287f2e",
            "3ccdcf5ebac641688ca2752836ee55a6",
            "eb2ebb42924c4571804a0606135036d2",
            "7e99ce7e9672477c8d21d93a21809d0c",
            "dd487ea7c3b744118b65e4b226db3635",
            "f319453828a94f79a94a23f442a930d1",
            "067047feb7f84167b2df37e553206087",
            "19ff0bb4cff64f278a77b448e3081e47",
            "ec24407875614a61b3ea4df2d83cc89a",
            "8348d198c59a46de8990e413b130cc9b",
            "558362f5396949f1a5733ded8d2b50a6",
            "4480785c9be14f668333f503a3ee9987",
            "639ea80534564774895bd339542eb72e",
            "6e39ddb737834ea19da481f6ef777eeb",
            "771edbfac1ca442ca708b4cf1ee153fe",
            "d3bf193eb44e4a5bb239835afb0b26fc",
            "47685b0f9c1a471f8f866953abaa7165",
            "318f458116bc4ca18452f4ee43bd9342",
            "5999655a68e54804bfeecf997c5ce2ae",
            "c1427c3721794e66830e09637b5fea5a",
            "31c8cdbe93394c9183ca66fc35eddbad",
            "15dcf284d3f54c3981a39debad931236",
            "759f16de9e054f4d8d7ef3b4ca5255c1",
            "c83b4457674747378166337bf4c48eba",
            "60092ee2184c46b69a7ea422ab806e72",
            "48b2032bb2e844b8b027b1149192dc27",
            "bf3c85f5df9745e08f1c55e6ef5be174",
            "d47a36073fc64c95ac5bf77afd1bc24b",
            "c404d9c62a9948feb9bd999b44ccead8",
            "6024fdfc10b14ad88a0d953f0b6ac76b",
            "a8bcb815bc944bd99294a1c9ce89a7b8",
            "fd7dcffa6067407ab3b1df2196d049e7",
            "5eabc870e2c047179fecb06ffbdb446b",
            "bc4a88742522465d87f4bbda353020a3",
            "d52bf326974349d7972a824c7ebbaf47",
            "d66d5583172241f3b995e7a28c831276",
            "abdc9e26254144eb880e98cdc287e241",
            "6a7fcfa93c9c4a239b0ba65585ba5d90",
            "289dd571d77548ca8576324328dbf5b9",
            "f1f5ec9eff4c46678ffb57b0ea66fe76",
            "36f41ba4f372490f9ec9ec47288bbc49",
            "5387892875664011a73a360e8d42525c",
            "11ad01bd41934928a3e46f7f9ba56cd2",
            "d3b3eb76bee14316af97e352aacc0671",
            "82dd8b8acd7149b58c95b09649bc8f9f",
            "4b65055c64aa4c49bf8740dc17095c2a",
            "e07e77517b414de9a1e776630b9670c1",
            "bbe7be35473a431cbb52a04948d5fd85",
            "d10b8eb13bba4d0ca02dcf7b6fc82114",
            "d1a0e405210e40cabf84c1a18eab1fe8",
            "9d7605aefc934effa3420f7cea4621d3",
            "778c3249b5874104afd7b60f542b6664",
            "3b90983361794e28b3cd222047cf6810",
            "e1a01bcced0c41d6a3afb0121d78d2a9",
            "b3a7d166817643cb92445bdd0ccaf2bc",
            "0b7abec2b28c412ba6dc88c10c569ea9",
            "0661cc4af91b4063b950ebcc1c735775",
            "f339e675f4cd4073b48d70181aca4b41",
            "bba02c9cff144596bd99fd8ed8824c8c",
            "b13addd3f4bd411085d2b1acfa05ce58",
            "35fe9daa56a548d49bb59ddaaad8ca47",
            "9b94a7aacf3242089e4e4a8f43f861f7",
            "f1239e4a9a1248e2abf01a4b77e9e29d",
            "0ad3943ae42b4e4cb07f70c4eb87b629",
            "ba0519ff39d2483499ff619762fc4c32",
            "92b2b224227f43e893f2df6c618eb780",
            "8bd4205e25c54ba78f1d399dd3fb6c9f",
            "a09d3fb779b442bea52108127e1a6871",
            "e308e168a20a4361ae53b6178013a6bc",
            "76ba3e145ddb4f81a03d71aeecf8c07d",
            "955a1e0c22d149cd981ed8b17a272386",
            "4249499d8d5644d98e3f786a4b71f19e",
            "9357140479cc451d8acf6dd1cec71c73",
            "6a897eff629342a0b7401f76f92d368e",
            "163366db2a614100902e5051066bf29f",
            "1e4667cbdca9432bbd2b61242e088780",
            "fb1476b080104b91bdf023c25af41013",
            "2946fdefd613464b91f45f7e4799c177",
            "f983374cdd5e4ba8876d642e277655ba",
            "448824d77cd3483eb6e2e4690f882fda",
            "43c412aef0ff4e128ef8206472fb14a7",
            "fab25de845784408aa451acaa547694d",
            "9c925686f2684b7a9b676b31d926596f",
            "6b6281e56e394156a6ce2fd4f78971e5",
            "ddb173d249fe49a795a0e1bd6b27a651",
            "f4d4d231108849f6825cba7127dcf3a5",
            "32db6112cefd46b2838f955892951216",
            "ba542931040f4be9b27ef4baef06e37e",
            "8d784e9f74be4864b7c4d9204b13328b",
            "b9832ec680c741dfa2a0a2f72db72cb4",
            "841293e7a1ea47919ea25f77232b3dcb",
            "6cb9fecf330c404587687365ec736a09",
            "a787209e26834ffd9b68bfdbf3c276f8",
            "9b01c4bf37c24ef5b8472ef945e6403c",
            "191ad06a29df4257b2cdcf520f065eeb",
            "45810a10736d4d8da361afba2255f775",
            "c96d6ca608ef4961801db56e638d7d99",
            "f8a767fd790241b4966a4edb7987b3b3",
            "fb98ac22b78d4158878733f12542fb52",
            "f47772cf2afc417abd2202576423758d",
            "7a17ba73a03447d392b6930b47271856",
            "60c14ed396b6460793f5b66090181c44",
            "d926292bca67429b839d8e51e7c55373",
            "749733f79b304407b13faa81f53f1998",
            "56615b09e5a24d1aa6237c8642f0f6d7",
            "d13fa8ef0b4643338f40137b1aa7ca08",
            "88a7d87377ef4dcfa3dcd4b31f4d667a",
            "b8609ba3e9df4be9880015a62feee00d",
            "86edd1d2966c4027bba6417979bc3e0a",
            "259b9ab05f25451aa90577f67e38f592",
            "26cd6dfc3b194e1d94c0cbda5d98e5dd",
            "c6f9f3434dc74220913c37b1ff0ee46c",
            "d3e76460253441b0bc9af50c8a5eca92",
            "5488bb2e64f544fa8610d4b0652a9823",
            "009f96a20f0d42a4860eee1e1cf3449b",
            "60a87f60166d4f10a569177f8d25e1e6",
            "d722dbfabb814842b24ad2b6129f53a3",
            "5fe81b915a4d430f8f9b9836cd73dff4",
            "13b1aaedc34d411f8d440964cabcf8dc",
            "7b086a7b11c8454782536f8acde3a3fc",
            "0230f184a03b4c259c32d3786ee17cb0",
            "20963cdbe62d4552a5e5862a82ac18df",
            "fe02ed4cdd9a45bfafaa966d69de6a95",
            "ad3843a1e9174f12a2123937b6fe20e5",
            "d7f6e3a4c7b84f31a85f84ba671b38fe",
            "72f26456a40c4647a81410530128ccf4",
            "0ca6aa75a534469e9a58a16e36eb63f5",
            "50eb8340c84d4c2b8b1bfc3667f588ac",
            "a103daf1822142348a0b860c501b4df7",
            "9f3cdaf13da240538a5a53213d46e0a5",
            "847c86fe1ab44eb1a506ac18386885ca",
            "46cff84dea5649cea7d4d9c3e19c34ab",
            "580317a1195344e9a7c226d780283fee",
            "056a18d52abb4bfe95b6efb6f1fa3c31",
            "1c2c40796b5f4f96a63151edcf006fb7",
            "c5fe9bbdc5df43e99d9967d7bcbca409",
            "f47528a29a244539bfcfc78e157b59e6",
            "675214b7b4814692b3d8d95abce288a8",
            "2ca3dbbaf29041fba2d4f1b39ce17d3f",
            "5d70c0566cad4c5c84ed701706d919f7",
            "099c0771fee2473aba24f77a61c3dd88",
            "7ef2c658f0d44062ad7fab5a1fd4cc97",
            "73157be53d294843a5897f8540066859",
            "f94c056084a24d32845cff5d107cad99",
            "f63c5f77fade48398caec780823abc1f",
            "4d04f7efe52a46209a018dff77d1d8a7",
            "0dd362997b98411ca8cba9811e368982",
            "b51283c2e55d485a87d34b523dcfdfb3",
            "c4d9d64c77fd4da1bc65c4c88b8866ed",
            "4ce9155e033349459194dcd970454196",
            "4f1b4106de474f34a5da436190d154ca",
            "50e435b2bf6c4ca6b7f5e72c99360300",
            "0117faf833484593905cf5af37e4d9c7",
            "cedc07363e624c0b97ddc9b64edce1a4",
            "2f90a22735f6436d9af6b47235a731b6",
            "56790ba3351e461cb28bc3ac4848d770",
            "6ef00df567974c65b5ead3518161bc90",
            "87ea66e0f47e43a08ec4e40da641a21a",
            "c316b115157247cb9dcbc22288e2c2f9",
            "fdffff07c115483b81928cb8ba453e8f",
            "f05a7867ea4a4bff857181d59b2b6f0d",
            "53d0acdd4a174bcb9c800f445c021b14",
            "a2931d749741435894bf274f7d886844",
            "b83b62a704054deaac7c4de6427e8061"
          ]
        },
        "id": "8Q6wXrywCMcv",
        "outputId": "8484ee7c-459a-4123-d093-00fa707705ca"
      },
      "id": "8Q6wXrywCMcv",
      "execution_count": null,
      "outputs": [
        {
          "output_type": "stream",
          "name": "stderr",
          "text": [
            "/usr/local/lib/python3.11/dist-packages/netket/graph/common_lattices.py:126: InitializePeriodicLatticeOnSmallLatticeWarning: \n",
            "You are attempting to define a lattice with length 2 in dimension 0 using periodic boundary condition.\n",
            "\n",
            "Lattice with less than two sites in one direction does not support periodic boundary condition.\n",
            "The behavior of the lattice is equivalent to an open boundary condition in this direction.\n",
            "\n",
            "To avoid this warning, consider either using a lattice with more than two sites in the direction you want to be periodic,\n",
            "or define the graph using :class:`~netket.graph.Graph` by adding the edges manually.\n",
            "\n",
            "\n",
            "-------------------------------------------------------\n",
            "For more detailed informations, visit the following link:\n",
            "\t https://netket.readthedocs.io/en/latest/api/_generated/errors/netket.errors.InitializePeriodicLatticeOnSmallLatticeWarning.html\n",
            "or the list of all common errors and warnings at\n",
            "\t https://netket.readthedocs.io/en/latest/api/errors.html\n",
            "-------------------------------------------------------\n",
            "\n",
            "  warnings.warn(\n"
          ]
        },
        {
          "output_type": "display_data",
          "data": {
            "text/plain": [
              "  0%|          | 0/300 [00:00<?, ?it/s]"
            ],
            "application/vnd.jupyter.widget-view+json": {
              "version_major": 2,
              "version_minor": 0,
              "model_id": "ee961f11af184b348c8da32ad0e0ebcc"
            }
          },
          "metadata": {}
        },
        {
          "output_type": "display_data",
          "data": {
            "text/plain": [
              "<IPython.core.display.Javascript object>"
            ],
            "application/javascript": [
              "\n",
              "    async function download(id, filename, size) {\n",
              "      if (!google.colab.kernel.accessAllowed) {\n",
              "        return;\n",
              "      }\n",
              "      const div = document.createElement('div');\n",
              "      const label = document.createElement('label');\n",
              "      label.textContent = `Downloading \"${filename}\": `;\n",
              "      div.appendChild(label);\n",
              "      const progress = document.createElement('progress');\n",
              "      progress.max = size;\n",
              "      div.appendChild(progress);\n",
              "      document.body.appendChild(div);\n",
              "\n",
              "      const buffers = [];\n",
              "      let downloaded = 0;\n",
              "\n",
              "      const channel = await google.colab.kernel.comms.open(id);\n",
              "      // Send a message to notify the kernel that we're ready.\n",
              "      channel.send({})\n",
              "\n",
              "      for await (const message of channel.messages) {\n",
              "        // Send a message to notify the kernel that we're ready.\n",
              "        channel.send({})\n",
              "        if (message.buffers) {\n",
              "          for (const buffer of message.buffers) {\n",
              "            buffers.push(buffer);\n",
              "            downloaded += buffer.byteLength;\n",
              "            progress.value = downloaded;\n",
              "          }\n",
              "        }\n",
              "      }\n",
              "      const blob = new Blob(buffers, {type: 'application/binary'});\n",
              "      const a = document.createElement('a');\n",
              "      a.href = window.URL.createObjectURL(blob);\n",
              "      a.download = filename;\n",
              "      div.appendChild(a);\n",
              "      a.click();\n",
              "      div.remove();\n",
              "    }\n",
              "  "
            ]
          },
          "metadata": {}
        },
        {
          "output_type": "display_data",
          "data": {
            "text/plain": [
              "<IPython.core.display.Javascript object>"
            ],
            "application/javascript": [
              "download(\"download_da6852e5-613b-4b32-a20a-3cbef4164bc2\", \"log_2_1_symm.json\", 37360)"
            ]
          },
          "metadata": {}
        },
        {
          "output_type": "display_data",
          "data": {
            "text/plain": [
              "  0%|          | 0/300 [00:00<?, ?it/s]"
            ],
            "application/vnd.jupyter.widget-view+json": {
              "version_major": 2,
              "version_minor": 0,
              "model_id": "56be27796fc544d0af26eb81130b1ece"
            }
          },
          "metadata": {}
        },
        {
          "output_type": "display_data",
          "data": {
            "text/plain": [
              "<IPython.core.display.Javascript object>"
            ],
            "application/javascript": [
              "\n",
              "    async function download(id, filename, size) {\n",
              "      if (!google.colab.kernel.accessAllowed) {\n",
              "        return;\n",
              "      }\n",
              "      const div = document.createElement('div');\n",
              "      const label = document.createElement('label');\n",
              "      label.textContent = `Downloading \"${filename}\": `;\n",
              "      div.appendChild(label);\n",
              "      const progress = document.createElement('progress');\n",
              "      progress.max = size;\n",
              "      div.appendChild(progress);\n",
              "      document.body.appendChild(div);\n",
              "\n",
              "      const buffers = [];\n",
              "      let downloaded = 0;\n",
              "\n",
              "      const channel = await google.colab.kernel.comms.open(id);\n",
              "      // Send a message to notify the kernel that we're ready.\n",
              "      channel.send({})\n",
              "\n",
              "      for await (const message of channel.messages) {\n",
              "        // Send a message to notify the kernel that we're ready.\n",
              "        channel.send({})\n",
              "        if (message.buffers) {\n",
              "          for (const buffer of message.buffers) {\n",
              "            buffers.push(buffer);\n",
              "            downloaded += buffer.byteLength;\n",
              "            progress.value = downloaded;\n",
              "          }\n",
              "        }\n",
              "      }\n",
              "      const blob = new Blob(buffers, {type: 'application/binary'});\n",
              "      const a = document.createElement('a');\n",
              "      a.href = window.URL.createObjectURL(blob);\n",
              "      a.download = filename;\n",
              "      div.appendChild(a);\n",
              "      a.click();\n",
              "      div.remove();\n",
              "    }\n",
              "  "
            ]
          },
          "metadata": {}
        },
        {
          "output_type": "display_data",
          "data": {
            "text/plain": [
              "<IPython.core.display.Javascript object>"
            ],
            "application/javascript": [
              "download(\"download_4ea2b874-1c55-4730-9986-124e4eaafceb\", \"log_4_1_symm.json\", 35532)"
            ]
          },
          "metadata": {}
        },
        {
          "output_type": "display_data",
          "data": {
            "text/plain": [
              "  0%|          | 0/300 [00:00<?, ?it/s]"
            ],
            "application/vnd.jupyter.widget-view+json": {
              "version_major": 2,
              "version_minor": 0,
              "model_id": "84c57e9147fd4a9cb8f8c1f033ea3418"
            }
          },
          "metadata": {}
        },
        {
          "output_type": "display_data",
          "data": {
            "text/plain": [
              "<IPython.core.display.Javascript object>"
            ],
            "application/javascript": [
              "\n",
              "    async function download(id, filename, size) {\n",
              "      if (!google.colab.kernel.accessAllowed) {\n",
              "        return;\n",
              "      }\n",
              "      const div = document.createElement('div');\n",
              "      const label = document.createElement('label');\n",
              "      label.textContent = `Downloading \"${filename}\": `;\n",
              "      div.appendChild(label);\n",
              "      const progress = document.createElement('progress');\n",
              "      progress.max = size;\n",
              "      div.appendChild(progress);\n",
              "      document.body.appendChild(div);\n",
              "\n",
              "      const buffers = [];\n",
              "      let downloaded = 0;\n",
              "\n",
              "      const channel = await google.colab.kernel.comms.open(id);\n",
              "      // Send a message to notify the kernel that we're ready.\n",
              "      channel.send({})\n",
              "\n",
              "      for await (const message of channel.messages) {\n",
              "        // Send a message to notify the kernel that we're ready.\n",
              "        channel.send({})\n",
              "        if (message.buffers) {\n",
              "          for (const buffer of message.buffers) {\n",
              "            buffers.push(buffer);\n",
              "            downloaded += buffer.byteLength;\n",
              "            progress.value = downloaded;\n",
              "          }\n",
              "        }\n",
              "      }\n",
              "      const blob = new Blob(buffers, {type: 'application/binary'});\n",
              "      const a = document.createElement('a');\n",
              "      a.href = window.URL.createObjectURL(blob);\n",
              "      a.download = filename;\n",
              "      div.appendChild(a);\n",
              "      a.click();\n",
              "      div.remove();\n",
              "    }\n",
              "  "
            ]
          },
          "metadata": {}
        },
        {
          "output_type": "display_data",
          "data": {
            "text/plain": [
              "<IPython.core.display.Javascript object>"
            ],
            "application/javascript": [
              "download(\"download_10b98d25-083a-44d3-99ff-deec06313b6b\", \"log_6_1_symm.json\", 35570)"
            ]
          },
          "metadata": {}
        },
        {
          "output_type": "display_data",
          "data": {
            "text/plain": [
              "  0%|          | 0/300 [00:00<?, ?it/s]"
            ],
            "application/vnd.jupyter.widget-view+json": {
              "version_major": 2,
              "version_minor": 0,
              "model_id": "e3bded15d8984d6e8cb8aa6bdbc5f180"
            }
          },
          "metadata": {}
        },
        {
          "output_type": "display_data",
          "data": {
            "text/plain": [
              "<IPython.core.display.Javascript object>"
            ],
            "application/javascript": [
              "\n",
              "    async function download(id, filename, size) {\n",
              "      if (!google.colab.kernel.accessAllowed) {\n",
              "        return;\n",
              "      }\n",
              "      const div = document.createElement('div');\n",
              "      const label = document.createElement('label');\n",
              "      label.textContent = `Downloading \"${filename}\": `;\n",
              "      div.appendChild(label);\n",
              "      const progress = document.createElement('progress');\n",
              "      progress.max = size;\n",
              "      div.appendChild(progress);\n",
              "      document.body.appendChild(div);\n",
              "\n",
              "      const buffers = [];\n",
              "      let downloaded = 0;\n",
              "\n",
              "      const channel = await google.colab.kernel.comms.open(id);\n",
              "      // Send a message to notify the kernel that we're ready.\n",
              "      channel.send({})\n",
              "\n",
              "      for await (const message of channel.messages) {\n",
              "        // Send a message to notify the kernel that we're ready.\n",
              "        channel.send({})\n",
              "        if (message.buffers) {\n",
              "          for (const buffer of message.buffers) {\n",
              "            buffers.push(buffer);\n",
              "            downloaded += buffer.byteLength;\n",
              "            progress.value = downloaded;\n",
              "          }\n",
              "        }\n",
              "      }\n",
              "      const blob = new Blob(buffers, {type: 'application/binary'});\n",
              "      const a = document.createElement('a');\n",
              "      a.href = window.URL.createObjectURL(blob);\n",
              "      a.download = filename;\n",
              "      div.appendChild(a);\n",
              "      a.click();\n",
              "      div.remove();\n",
              "    }\n",
              "  "
            ]
          },
          "metadata": {}
        },
        {
          "output_type": "display_data",
          "data": {
            "text/plain": [
              "<IPython.core.display.Javascript object>"
            ],
            "application/javascript": [
              "download(\"download_b8233350-bc42-4bb5-a6e7-f780f54b4775\", \"log_8_1_symm.json\", 35827)"
            ]
          },
          "metadata": {}
        },
        {
          "output_type": "display_data",
          "data": {
            "text/plain": [
              "  0%|          | 0/300 [00:00<?, ?it/s]"
            ],
            "application/vnd.jupyter.widget-view+json": {
              "version_major": 2,
              "version_minor": 0,
              "model_id": "d88a9c4ac82d47bd915e16c2a40ed819"
            }
          },
          "metadata": {}
        },
        {
          "output_type": "display_data",
          "data": {
            "text/plain": [
              "<IPython.core.display.Javascript object>"
            ],
            "application/javascript": [
              "\n",
              "    async function download(id, filename, size) {\n",
              "      if (!google.colab.kernel.accessAllowed) {\n",
              "        return;\n",
              "      }\n",
              "      const div = document.createElement('div');\n",
              "      const label = document.createElement('label');\n",
              "      label.textContent = `Downloading \"${filename}\": `;\n",
              "      div.appendChild(label);\n",
              "      const progress = document.createElement('progress');\n",
              "      progress.max = size;\n",
              "      div.appendChild(progress);\n",
              "      document.body.appendChild(div);\n",
              "\n",
              "      const buffers = [];\n",
              "      let downloaded = 0;\n",
              "\n",
              "      const channel = await google.colab.kernel.comms.open(id);\n",
              "      // Send a message to notify the kernel that we're ready.\n",
              "      channel.send({})\n",
              "\n",
              "      for await (const message of channel.messages) {\n",
              "        // Send a message to notify the kernel that we're ready.\n",
              "        channel.send({})\n",
              "        if (message.buffers) {\n",
              "          for (const buffer of message.buffers) {\n",
              "            buffers.push(buffer);\n",
              "            downloaded += buffer.byteLength;\n",
              "            progress.value = downloaded;\n",
              "          }\n",
              "        }\n",
              "      }\n",
              "      const blob = new Blob(buffers, {type: 'application/binary'});\n",
              "      const a = document.createElement('a');\n",
              "      a.href = window.URL.createObjectURL(blob);\n",
              "      a.download = filename;\n",
              "      div.appendChild(a);\n",
              "      a.click();\n",
              "      div.remove();\n",
              "    }\n",
              "  "
            ]
          },
          "metadata": {}
        },
        {
          "output_type": "display_data",
          "data": {
            "text/plain": [
              "<IPython.core.display.Javascript object>"
            ],
            "application/javascript": [
              "download(\"download_032c2274-ea75-42fc-8fe8-eb603d4919f3\", \"log_10_1_symm.json\", 36412)"
            ]
          },
          "metadata": {}
        },
        {
          "output_type": "display_data",
          "data": {
            "text/plain": [
              "  0%|          | 0/300 [00:00<?, ?it/s]"
            ],
            "application/vnd.jupyter.widget-view+json": {
              "version_major": 2,
              "version_minor": 0,
              "model_id": "558362f5396949f1a5733ded8d2b50a6"
            }
          },
          "metadata": {}
        },
        {
          "output_type": "display_data",
          "data": {
            "text/plain": [
              "<IPython.core.display.Javascript object>"
            ],
            "application/javascript": [
              "\n",
              "    async function download(id, filename, size) {\n",
              "      if (!google.colab.kernel.accessAllowed) {\n",
              "        return;\n",
              "      }\n",
              "      const div = document.createElement('div');\n",
              "      const label = document.createElement('label');\n",
              "      label.textContent = `Downloading \"${filename}\": `;\n",
              "      div.appendChild(label);\n",
              "      const progress = document.createElement('progress');\n",
              "      progress.max = size;\n",
              "      div.appendChild(progress);\n",
              "      document.body.appendChild(div);\n",
              "\n",
              "      const buffers = [];\n",
              "      let downloaded = 0;\n",
              "\n",
              "      const channel = await google.colab.kernel.comms.open(id);\n",
              "      // Send a message to notify the kernel that we're ready.\n",
              "      channel.send({})\n",
              "\n",
              "      for await (const message of channel.messages) {\n",
              "        // Send a message to notify the kernel that we're ready.\n",
              "        channel.send({})\n",
              "        if (message.buffers) {\n",
              "          for (const buffer of message.buffers) {\n",
              "            buffers.push(buffer);\n",
              "            downloaded += buffer.byteLength;\n",
              "            progress.value = downloaded;\n",
              "          }\n",
              "        }\n",
              "      }\n",
              "      const blob = new Blob(buffers, {type: 'application/binary'});\n",
              "      const a = document.createElement('a');\n",
              "      a.href = window.URL.createObjectURL(blob);\n",
              "      a.download = filename;\n",
              "      div.appendChild(a);\n",
              "      a.click();\n",
              "      div.remove();\n",
              "    }\n",
              "  "
            ]
          },
          "metadata": {}
        },
        {
          "output_type": "display_data",
          "data": {
            "text/plain": [
              "<IPython.core.display.Javascript object>"
            ],
            "application/javascript": [
              "download(\"download_d6a2ea1c-a2ca-479d-b0e8-ba3586738c54\", \"log_12_1_symm.json\", 36672)"
            ]
          },
          "metadata": {}
        },
        {
          "output_type": "display_data",
          "data": {
            "text/plain": [
              "  0%|          | 0/300 [00:00<?, ?it/s]"
            ],
            "application/vnd.jupyter.widget-view+json": {
              "version_major": 2,
              "version_minor": 0,
              "model_id": "15dcf284d3f54c3981a39debad931236"
            }
          },
          "metadata": {}
        },
        {
          "output_type": "display_data",
          "data": {
            "text/plain": [
              "<IPython.core.display.Javascript object>"
            ],
            "application/javascript": [
              "\n",
              "    async function download(id, filename, size) {\n",
              "      if (!google.colab.kernel.accessAllowed) {\n",
              "        return;\n",
              "      }\n",
              "      const div = document.createElement('div');\n",
              "      const label = document.createElement('label');\n",
              "      label.textContent = `Downloading \"${filename}\": `;\n",
              "      div.appendChild(label);\n",
              "      const progress = document.createElement('progress');\n",
              "      progress.max = size;\n",
              "      div.appendChild(progress);\n",
              "      document.body.appendChild(div);\n",
              "\n",
              "      const buffers = [];\n",
              "      let downloaded = 0;\n",
              "\n",
              "      const channel = await google.colab.kernel.comms.open(id);\n",
              "      // Send a message to notify the kernel that we're ready.\n",
              "      channel.send({})\n",
              "\n",
              "      for await (const message of channel.messages) {\n",
              "        // Send a message to notify the kernel that we're ready.\n",
              "        channel.send({})\n",
              "        if (message.buffers) {\n",
              "          for (const buffer of message.buffers) {\n",
              "            buffers.push(buffer);\n",
              "            downloaded += buffer.byteLength;\n",
              "            progress.value = downloaded;\n",
              "          }\n",
              "        }\n",
              "      }\n",
              "      const blob = new Blob(buffers, {type: 'application/binary'});\n",
              "      const a = document.createElement('a');\n",
              "      a.href = window.URL.createObjectURL(blob);\n",
              "      a.download = filename;\n",
              "      div.appendChild(a);\n",
              "      a.click();\n",
              "      div.remove();\n",
              "    }\n",
              "  "
            ]
          },
          "metadata": {}
        },
        {
          "output_type": "display_data",
          "data": {
            "text/plain": [
              "<IPython.core.display.Javascript object>"
            ],
            "application/javascript": [
              "download(\"download_1f7ddcb4-380c-4a2c-9841-dd1fbc336388\", \"log_14_1_symm.json\", 37416)"
            ]
          },
          "metadata": {}
        },
        {
          "output_type": "display_data",
          "data": {
            "text/plain": [
              "  0%|          | 0/300 [00:00<?, ?it/s]"
            ],
            "application/vnd.jupyter.widget-view+json": {
              "version_major": 2,
              "version_minor": 0,
              "model_id": "5eabc870e2c047179fecb06ffbdb446b"
            }
          },
          "metadata": {}
        },
        {
          "output_type": "display_data",
          "data": {
            "text/plain": [
              "<IPython.core.display.Javascript object>"
            ],
            "application/javascript": [
              "\n",
              "    async function download(id, filename, size) {\n",
              "      if (!google.colab.kernel.accessAllowed) {\n",
              "        return;\n",
              "      }\n",
              "      const div = document.createElement('div');\n",
              "      const label = document.createElement('label');\n",
              "      label.textContent = `Downloading \"${filename}\": `;\n",
              "      div.appendChild(label);\n",
              "      const progress = document.createElement('progress');\n",
              "      progress.max = size;\n",
              "      div.appendChild(progress);\n",
              "      document.body.appendChild(div);\n",
              "\n",
              "      const buffers = [];\n",
              "      let downloaded = 0;\n",
              "\n",
              "      const channel = await google.colab.kernel.comms.open(id);\n",
              "      // Send a message to notify the kernel that we're ready.\n",
              "      channel.send({})\n",
              "\n",
              "      for await (const message of channel.messages) {\n",
              "        // Send a message to notify the kernel that we're ready.\n",
              "        channel.send({})\n",
              "        if (message.buffers) {\n",
              "          for (const buffer of message.buffers) {\n",
              "            buffers.push(buffer);\n",
              "            downloaded += buffer.byteLength;\n",
              "            progress.value = downloaded;\n",
              "          }\n",
              "        }\n",
              "      }\n",
              "      const blob = new Blob(buffers, {type: 'application/binary'});\n",
              "      const a = document.createElement('a');\n",
              "      a.href = window.URL.createObjectURL(blob);\n",
              "      a.download = filename;\n",
              "      div.appendChild(a);\n",
              "      a.click();\n",
              "      div.remove();\n",
              "    }\n",
              "  "
            ]
          },
          "metadata": {}
        },
        {
          "output_type": "display_data",
          "data": {
            "text/plain": [
              "<IPython.core.display.Javascript object>"
            ],
            "application/javascript": [
              "download(\"download_2d297098-9e43-4c61-b78d-927f0d4a113f\", \"log_16_1_symm.json\", 37229)"
            ]
          },
          "metadata": {}
        },
        {
          "output_type": "display_data",
          "data": {
            "text/plain": [
              "  0%|          | 0/300 [00:00<?, ?it/s]"
            ],
            "application/vnd.jupyter.widget-view+json": {
              "version_major": 2,
              "version_minor": 0,
              "model_id": "d3b3eb76bee14316af97e352aacc0671"
            }
          },
          "metadata": {}
        },
        {
          "output_type": "display_data",
          "data": {
            "text/plain": [
              "<IPython.core.display.Javascript object>"
            ],
            "application/javascript": [
              "\n",
              "    async function download(id, filename, size) {\n",
              "      if (!google.colab.kernel.accessAllowed) {\n",
              "        return;\n",
              "      }\n",
              "      const div = document.createElement('div');\n",
              "      const label = document.createElement('label');\n",
              "      label.textContent = `Downloading \"${filename}\": `;\n",
              "      div.appendChild(label);\n",
              "      const progress = document.createElement('progress');\n",
              "      progress.max = size;\n",
              "      div.appendChild(progress);\n",
              "      document.body.appendChild(div);\n",
              "\n",
              "      const buffers = [];\n",
              "      let downloaded = 0;\n",
              "\n",
              "      const channel = await google.colab.kernel.comms.open(id);\n",
              "      // Send a message to notify the kernel that we're ready.\n",
              "      channel.send({})\n",
              "\n",
              "      for await (const message of channel.messages) {\n",
              "        // Send a message to notify the kernel that we're ready.\n",
              "        channel.send({})\n",
              "        if (message.buffers) {\n",
              "          for (const buffer of message.buffers) {\n",
              "            buffers.push(buffer);\n",
              "            downloaded += buffer.byteLength;\n",
              "            progress.value = downloaded;\n",
              "          }\n",
              "        }\n",
              "      }\n",
              "      const blob = new Blob(buffers, {type: 'application/binary'});\n",
              "      const a = document.createElement('a');\n",
              "      a.href = window.URL.createObjectURL(blob);\n",
              "      a.download = filename;\n",
              "      div.appendChild(a);\n",
              "      a.click();\n",
              "      div.remove();\n",
              "    }\n",
              "  "
            ]
          },
          "metadata": {}
        },
        {
          "output_type": "display_data",
          "data": {
            "text/plain": [
              "<IPython.core.display.Javascript object>"
            ],
            "application/javascript": [
              "download(\"download_e00560c7-bc8d-4c9a-b204-a2190d628be5\", \"log_18_1_symm.json\", 37512)"
            ]
          },
          "metadata": {}
        },
        {
          "output_type": "display_data",
          "data": {
            "text/plain": [
              "  0%|          | 0/300 [00:00<?, ?it/s]"
            ],
            "application/vnd.jupyter.widget-view+json": {
              "version_major": 2,
              "version_minor": 0,
              "model_id": "b3a7d166817643cb92445bdd0ccaf2bc"
            }
          },
          "metadata": {}
        },
        {
          "output_type": "display_data",
          "data": {
            "text/plain": [
              "<IPython.core.display.Javascript object>"
            ],
            "application/javascript": [
              "\n",
              "    async function download(id, filename, size) {\n",
              "      if (!google.colab.kernel.accessAllowed) {\n",
              "        return;\n",
              "      }\n",
              "      const div = document.createElement('div');\n",
              "      const label = document.createElement('label');\n",
              "      label.textContent = `Downloading \"${filename}\": `;\n",
              "      div.appendChild(label);\n",
              "      const progress = document.createElement('progress');\n",
              "      progress.max = size;\n",
              "      div.appendChild(progress);\n",
              "      document.body.appendChild(div);\n",
              "\n",
              "      const buffers = [];\n",
              "      let downloaded = 0;\n",
              "\n",
              "      const channel = await google.colab.kernel.comms.open(id);\n",
              "      // Send a message to notify the kernel that we're ready.\n",
              "      channel.send({})\n",
              "\n",
              "      for await (const message of channel.messages) {\n",
              "        // Send a message to notify the kernel that we're ready.\n",
              "        channel.send({})\n",
              "        if (message.buffers) {\n",
              "          for (const buffer of message.buffers) {\n",
              "            buffers.push(buffer);\n",
              "            downloaded += buffer.byteLength;\n",
              "            progress.value = downloaded;\n",
              "          }\n",
              "        }\n",
              "      }\n",
              "      const blob = new Blob(buffers, {type: 'application/binary'});\n",
              "      const a = document.createElement('a');\n",
              "      a.href = window.URL.createObjectURL(blob);\n",
              "      a.download = filename;\n",
              "      div.appendChild(a);\n",
              "      a.click();\n",
              "      div.remove();\n",
              "    }\n",
              "  "
            ]
          },
          "metadata": {}
        },
        {
          "output_type": "display_data",
          "data": {
            "text/plain": [
              "<IPython.core.display.Javascript object>"
            ],
            "application/javascript": [
              "download(\"download_0f211d09-72a8-4c99-96e4-e073ae0ad4f0\", \"log_20_1_symm.json\", 37193)"
            ]
          },
          "metadata": {}
        },
        {
          "output_type": "display_data",
          "data": {
            "text/plain": [
              "  0%|          | 0/300 [00:00<?, ?it/s]"
            ],
            "application/vnd.jupyter.widget-view+json": {
              "version_major": 2,
              "version_minor": 0,
              "model_id": "92b2b224227f43e893f2df6c618eb780"
            }
          },
          "metadata": {}
        },
        {
          "output_type": "display_data",
          "data": {
            "text/plain": [
              "<IPython.core.display.Javascript object>"
            ],
            "application/javascript": [
              "\n",
              "    async function download(id, filename, size) {\n",
              "      if (!google.colab.kernel.accessAllowed) {\n",
              "        return;\n",
              "      }\n",
              "      const div = document.createElement('div');\n",
              "      const label = document.createElement('label');\n",
              "      label.textContent = `Downloading \"${filename}\": `;\n",
              "      div.appendChild(label);\n",
              "      const progress = document.createElement('progress');\n",
              "      progress.max = size;\n",
              "      div.appendChild(progress);\n",
              "      document.body.appendChild(div);\n",
              "\n",
              "      const buffers = [];\n",
              "      let downloaded = 0;\n",
              "\n",
              "      const channel = await google.colab.kernel.comms.open(id);\n",
              "      // Send a message to notify the kernel that we're ready.\n",
              "      channel.send({})\n",
              "\n",
              "      for await (const message of channel.messages) {\n",
              "        // Send a message to notify the kernel that we're ready.\n",
              "        channel.send({})\n",
              "        if (message.buffers) {\n",
              "          for (const buffer of message.buffers) {\n",
              "            buffers.push(buffer);\n",
              "            downloaded += buffer.byteLength;\n",
              "            progress.value = downloaded;\n",
              "          }\n",
              "        }\n",
              "      }\n",
              "      const blob = new Blob(buffers, {type: 'application/binary'});\n",
              "      const a = document.createElement('a');\n",
              "      a.href = window.URL.createObjectURL(blob);\n",
              "      a.download = filename;\n",
              "      div.appendChild(a);\n",
              "      a.click();\n",
              "      div.remove();\n",
              "    }\n",
              "  "
            ]
          },
          "metadata": {}
        },
        {
          "output_type": "display_data",
          "data": {
            "text/plain": [
              "<IPython.core.display.Javascript object>"
            ],
            "application/javascript": [
              "download(\"download_bf313277-8386-43cf-bfb1-e04d4e9fc0cf\", \"log_22_1_symm.json\", 37425)"
            ]
          },
          "metadata": {}
        },
        {
          "output_type": "display_data",
          "data": {
            "text/plain": [
              "  0%|          | 0/300 [00:00<?, ?it/s]"
            ],
            "application/vnd.jupyter.widget-view+json": {
              "version_major": 2,
              "version_minor": 0,
              "model_id": "fb1476b080104b91bdf023c25af41013"
            }
          },
          "metadata": {}
        },
        {
          "output_type": "display_data",
          "data": {
            "text/plain": [
              "<IPython.core.display.Javascript object>"
            ],
            "application/javascript": [
              "\n",
              "    async function download(id, filename, size) {\n",
              "      if (!google.colab.kernel.accessAllowed) {\n",
              "        return;\n",
              "      }\n",
              "      const div = document.createElement('div');\n",
              "      const label = document.createElement('label');\n",
              "      label.textContent = `Downloading \"${filename}\": `;\n",
              "      div.appendChild(label);\n",
              "      const progress = document.createElement('progress');\n",
              "      progress.max = size;\n",
              "      div.appendChild(progress);\n",
              "      document.body.appendChild(div);\n",
              "\n",
              "      const buffers = [];\n",
              "      let downloaded = 0;\n",
              "\n",
              "      const channel = await google.colab.kernel.comms.open(id);\n",
              "      // Send a message to notify the kernel that we're ready.\n",
              "      channel.send({})\n",
              "\n",
              "      for await (const message of channel.messages) {\n",
              "        // Send a message to notify the kernel that we're ready.\n",
              "        channel.send({})\n",
              "        if (message.buffers) {\n",
              "          for (const buffer of message.buffers) {\n",
              "            buffers.push(buffer);\n",
              "            downloaded += buffer.byteLength;\n",
              "            progress.value = downloaded;\n",
              "          }\n",
              "        }\n",
              "      }\n",
              "      const blob = new Blob(buffers, {type: 'application/binary'});\n",
              "      const a = document.createElement('a');\n",
              "      a.href = window.URL.createObjectURL(blob);\n",
              "      a.download = filename;\n",
              "      div.appendChild(a);\n",
              "      a.click();\n",
              "      div.remove();\n",
              "    }\n",
              "  "
            ]
          },
          "metadata": {}
        },
        {
          "output_type": "display_data",
          "data": {
            "text/plain": [
              "<IPython.core.display.Javascript object>"
            ],
            "application/javascript": [
              "download(\"download_d01c0623-5702-4e6f-8bb4-00eaa7c48492\", \"log_32_1_symm.json\", 37102)"
            ]
          },
          "metadata": {}
        },
        {
          "output_type": "display_data",
          "data": {
            "text/plain": [
              "  0%|          | 0/300 [00:00<?, ?it/s]"
            ],
            "application/vnd.jupyter.widget-view+json": {
              "version_major": 2,
              "version_minor": 0,
              "model_id": "ba542931040f4be9b27ef4baef06e37e"
            }
          },
          "metadata": {}
        },
        {
          "output_type": "display_data",
          "data": {
            "text/plain": [
              "<IPython.core.display.Javascript object>"
            ],
            "application/javascript": [
              "\n",
              "    async function download(id, filename, size) {\n",
              "      if (!google.colab.kernel.accessAllowed) {\n",
              "        return;\n",
              "      }\n",
              "      const div = document.createElement('div');\n",
              "      const label = document.createElement('label');\n",
              "      label.textContent = `Downloading \"${filename}\": `;\n",
              "      div.appendChild(label);\n",
              "      const progress = document.createElement('progress');\n",
              "      progress.max = size;\n",
              "      div.appendChild(progress);\n",
              "      document.body.appendChild(div);\n",
              "\n",
              "      const buffers = [];\n",
              "      let downloaded = 0;\n",
              "\n",
              "      const channel = await google.colab.kernel.comms.open(id);\n",
              "      // Send a message to notify the kernel that we're ready.\n",
              "      channel.send({})\n",
              "\n",
              "      for await (const message of channel.messages) {\n",
              "        // Send a message to notify the kernel that we're ready.\n",
              "        channel.send({})\n",
              "        if (message.buffers) {\n",
              "          for (const buffer of message.buffers) {\n",
              "            buffers.push(buffer);\n",
              "            downloaded += buffer.byteLength;\n",
              "            progress.value = downloaded;\n",
              "          }\n",
              "        }\n",
              "      }\n",
              "      const blob = new Blob(buffers, {type: 'application/binary'});\n",
              "      const a = document.createElement('a');\n",
              "      a.href = window.URL.createObjectURL(blob);\n",
              "      a.download = filename;\n",
              "      div.appendChild(a);\n",
              "      a.click();\n",
              "      div.remove();\n",
              "    }\n",
              "  "
            ]
          },
          "metadata": {}
        },
        {
          "output_type": "display_data",
          "data": {
            "text/plain": [
              "<IPython.core.display.Javascript object>"
            ],
            "application/javascript": [
              "download(\"download_9f3ae5e7-7728-4466-83a3-13fa30841584\", \"log_42_1_symm.json\", 37601)"
            ]
          },
          "metadata": {}
        },
        {
          "output_type": "display_data",
          "data": {
            "text/plain": [
              "  0%|          | 0/300 [00:00<?, ?it/s]"
            ],
            "application/vnd.jupyter.widget-view+json": {
              "version_major": 2,
              "version_minor": 0,
              "model_id": "fb98ac22b78d4158878733f12542fb52"
            }
          },
          "metadata": {}
        },
        {
          "output_type": "display_data",
          "data": {
            "text/plain": [
              "<IPython.core.display.Javascript object>"
            ],
            "application/javascript": [
              "\n",
              "    async function download(id, filename, size) {\n",
              "      if (!google.colab.kernel.accessAllowed) {\n",
              "        return;\n",
              "      }\n",
              "      const div = document.createElement('div');\n",
              "      const label = document.createElement('label');\n",
              "      label.textContent = `Downloading \"${filename}\": `;\n",
              "      div.appendChild(label);\n",
              "      const progress = document.createElement('progress');\n",
              "      progress.max = size;\n",
              "      div.appendChild(progress);\n",
              "      document.body.appendChild(div);\n",
              "\n",
              "      const buffers = [];\n",
              "      let downloaded = 0;\n",
              "\n",
              "      const channel = await google.colab.kernel.comms.open(id);\n",
              "      // Send a message to notify the kernel that we're ready.\n",
              "      channel.send({})\n",
              "\n",
              "      for await (const message of channel.messages) {\n",
              "        // Send a message to notify the kernel that we're ready.\n",
              "        channel.send({})\n",
              "        if (message.buffers) {\n",
              "          for (const buffer of message.buffers) {\n",
              "            buffers.push(buffer);\n",
              "            downloaded += buffer.byteLength;\n",
              "            progress.value = downloaded;\n",
              "          }\n",
              "        }\n",
              "      }\n",
              "      const blob = new Blob(buffers, {type: 'application/binary'});\n",
              "      const a = document.createElement('a');\n",
              "      a.href = window.URL.createObjectURL(blob);\n",
              "      a.download = filename;\n",
              "      div.appendChild(a);\n",
              "      a.click();\n",
              "      div.remove();\n",
              "    }\n",
              "  "
            ]
          },
          "metadata": {}
        },
        {
          "output_type": "display_data",
          "data": {
            "text/plain": [
              "<IPython.core.display.Javascript object>"
            ],
            "application/javascript": [
              "download(\"download_f6bfa3f4-c2a7-448f-9591-32c6319bc7c1\", \"log_52_1_symm.json\", 36781)"
            ]
          },
          "metadata": {}
        },
        {
          "output_type": "display_data",
          "data": {
            "text/plain": [
              "  0%|          | 0/300 [00:00<?, ?it/s]"
            ],
            "application/vnd.jupyter.widget-view+json": {
              "version_major": 2,
              "version_minor": 0,
              "model_id": "259b9ab05f25451aa90577f67e38f592"
            }
          },
          "metadata": {}
        },
        {
          "output_type": "display_data",
          "data": {
            "text/plain": [
              "<IPython.core.display.Javascript object>"
            ],
            "application/javascript": [
              "\n",
              "    async function download(id, filename, size) {\n",
              "      if (!google.colab.kernel.accessAllowed) {\n",
              "        return;\n",
              "      }\n",
              "      const div = document.createElement('div');\n",
              "      const label = document.createElement('label');\n",
              "      label.textContent = `Downloading \"${filename}\": `;\n",
              "      div.appendChild(label);\n",
              "      const progress = document.createElement('progress');\n",
              "      progress.max = size;\n",
              "      div.appendChild(progress);\n",
              "      document.body.appendChild(div);\n",
              "\n",
              "      const buffers = [];\n",
              "      let downloaded = 0;\n",
              "\n",
              "      const channel = await google.colab.kernel.comms.open(id);\n",
              "      // Send a message to notify the kernel that we're ready.\n",
              "      channel.send({})\n",
              "\n",
              "      for await (const message of channel.messages) {\n",
              "        // Send a message to notify the kernel that we're ready.\n",
              "        channel.send({})\n",
              "        if (message.buffers) {\n",
              "          for (const buffer of message.buffers) {\n",
              "            buffers.push(buffer);\n",
              "            downloaded += buffer.byteLength;\n",
              "            progress.value = downloaded;\n",
              "          }\n",
              "        }\n",
              "      }\n",
              "      const blob = new Blob(buffers, {type: 'application/binary'});\n",
              "      const a = document.createElement('a');\n",
              "      a.href = window.URL.createObjectURL(blob);\n",
              "      a.download = filename;\n",
              "      div.appendChild(a);\n",
              "      a.click();\n",
              "      div.remove();\n",
              "    }\n",
              "  "
            ]
          },
          "metadata": {}
        },
        {
          "output_type": "display_data",
          "data": {
            "text/plain": [
              "<IPython.core.display.Javascript object>"
            ],
            "application/javascript": [
              "download(\"download_45737faa-0a1d-4e8d-ae56-a6af4344a91e\", \"log_62_1_symm.json\", 36797)"
            ]
          },
          "metadata": {}
        },
        {
          "output_type": "display_data",
          "data": {
            "text/plain": [
              "  0%|          | 0/300 [00:00<?, ?it/s]"
            ],
            "application/vnd.jupyter.widget-view+json": {
              "version_major": 2,
              "version_minor": 0,
              "model_id": "0230f184a03b4c259c32d3786ee17cb0"
            }
          },
          "metadata": {}
        },
        {
          "output_type": "display_data",
          "data": {
            "text/plain": [
              "<IPython.core.display.Javascript object>"
            ],
            "application/javascript": [
              "\n",
              "    async function download(id, filename, size) {\n",
              "      if (!google.colab.kernel.accessAllowed) {\n",
              "        return;\n",
              "      }\n",
              "      const div = document.createElement('div');\n",
              "      const label = document.createElement('label');\n",
              "      label.textContent = `Downloading \"${filename}\": `;\n",
              "      div.appendChild(label);\n",
              "      const progress = document.createElement('progress');\n",
              "      progress.max = size;\n",
              "      div.appendChild(progress);\n",
              "      document.body.appendChild(div);\n",
              "\n",
              "      const buffers = [];\n",
              "      let downloaded = 0;\n",
              "\n",
              "      const channel = await google.colab.kernel.comms.open(id);\n",
              "      // Send a message to notify the kernel that we're ready.\n",
              "      channel.send({})\n",
              "\n",
              "      for await (const message of channel.messages) {\n",
              "        // Send a message to notify the kernel that we're ready.\n",
              "        channel.send({})\n",
              "        if (message.buffers) {\n",
              "          for (const buffer of message.buffers) {\n",
              "            buffers.push(buffer);\n",
              "            downloaded += buffer.byteLength;\n",
              "            progress.value = downloaded;\n",
              "          }\n",
              "        }\n",
              "      }\n",
              "      const blob = new Blob(buffers, {type: 'application/binary'});\n",
              "      const a = document.createElement('a');\n",
              "      a.href = window.URL.createObjectURL(blob);\n",
              "      a.download = filename;\n",
              "      div.appendChild(a);\n",
              "      a.click();\n",
              "      div.remove();\n",
              "    }\n",
              "  "
            ]
          },
          "metadata": {}
        },
        {
          "output_type": "display_data",
          "data": {
            "text/plain": [
              "<IPython.core.display.Javascript object>"
            ],
            "application/javascript": [
              "download(\"download_793b29a1-759c-400e-829b-6036173e0685\", \"log_72_1_symm.json\", 36694)"
            ]
          },
          "metadata": {}
        },
        {
          "output_type": "display_data",
          "data": {
            "text/plain": [
              "  0%|          | 0/300 [00:00<?, ?it/s]"
            ],
            "application/vnd.jupyter.widget-view+json": {
              "version_major": 2,
              "version_minor": 0,
              "model_id": "46cff84dea5649cea7d4d9c3e19c34ab"
            }
          },
          "metadata": {}
        },
        {
          "output_type": "display_data",
          "data": {
            "text/plain": [
              "<IPython.core.display.Javascript object>"
            ],
            "application/javascript": [
              "\n",
              "    async function download(id, filename, size) {\n",
              "      if (!google.colab.kernel.accessAllowed) {\n",
              "        return;\n",
              "      }\n",
              "      const div = document.createElement('div');\n",
              "      const label = document.createElement('label');\n",
              "      label.textContent = `Downloading \"${filename}\": `;\n",
              "      div.appendChild(label);\n",
              "      const progress = document.createElement('progress');\n",
              "      progress.max = size;\n",
              "      div.appendChild(progress);\n",
              "      document.body.appendChild(div);\n",
              "\n",
              "      const buffers = [];\n",
              "      let downloaded = 0;\n",
              "\n",
              "      const channel = await google.colab.kernel.comms.open(id);\n",
              "      // Send a message to notify the kernel that we're ready.\n",
              "      channel.send({})\n",
              "\n",
              "      for await (const message of channel.messages) {\n",
              "        // Send a message to notify the kernel that we're ready.\n",
              "        channel.send({})\n",
              "        if (message.buffers) {\n",
              "          for (const buffer of message.buffers) {\n",
              "            buffers.push(buffer);\n",
              "            downloaded += buffer.byteLength;\n",
              "            progress.value = downloaded;\n",
              "          }\n",
              "        }\n",
              "      }\n",
              "      const blob = new Blob(buffers, {type: 'application/binary'});\n",
              "      const a = document.createElement('a');\n",
              "      a.href = window.URL.createObjectURL(blob);\n",
              "      a.download = filename;\n",
              "      div.appendChild(a);\n",
              "      a.click();\n",
              "      div.remove();\n",
              "    }\n",
              "  "
            ]
          },
          "metadata": {}
        },
        {
          "output_type": "display_data",
          "data": {
            "text/plain": [
              "<IPython.core.display.Javascript object>"
            ],
            "application/javascript": [
              "download(\"download_544feb6b-2452-4ee7-8ac3-890a8257e998\", \"log_82_1_symm.json\", 36570)"
            ]
          },
          "metadata": {}
        },
        {
          "output_type": "display_data",
          "data": {
            "text/plain": [
              "  0%|          | 0/300 [00:00<?, ?it/s]"
            ],
            "application/vnd.jupyter.widget-view+json": {
              "version_major": 2,
              "version_minor": 0,
              "model_id": "73157be53d294843a5897f8540066859"
            }
          },
          "metadata": {}
        },
        {
          "output_type": "display_data",
          "data": {
            "text/plain": [
              "<IPython.core.display.Javascript object>"
            ],
            "application/javascript": [
              "\n",
              "    async function download(id, filename, size) {\n",
              "      if (!google.colab.kernel.accessAllowed) {\n",
              "        return;\n",
              "      }\n",
              "      const div = document.createElement('div');\n",
              "      const label = document.createElement('label');\n",
              "      label.textContent = `Downloading \"${filename}\": `;\n",
              "      div.appendChild(label);\n",
              "      const progress = document.createElement('progress');\n",
              "      progress.max = size;\n",
              "      div.appendChild(progress);\n",
              "      document.body.appendChild(div);\n",
              "\n",
              "      const buffers = [];\n",
              "      let downloaded = 0;\n",
              "\n",
              "      const channel = await google.colab.kernel.comms.open(id);\n",
              "      // Send a message to notify the kernel that we're ready.\n",
              "      channel.send({})\n",
              "\n",
              "      for await (const message of channel.messages) {\n",
              "        // Send a message to notify the kernel that we're ready.\n",
              "        channel.send({})\n",
              "        if (message.buffers) {\n",
              "          for (const buffer of message.buffers) {\n",
              "            buffers.push(buffer);\n",
              "            downloaded += buffer.byteLength;\n",
              "            progress.value = downloaded;\n",
              "          }\n",
              "        }\n",
              "      }\n",
              "      const blob = new Blob(buffers, {type: 'application/binary'});\n",
              "      const a = document.createElement('a');\n",
              "      a.href = window.URL.createObjectURL(blob);\n",
              "      a.download = filename;\n",
              "      div.appendChild(a);\n",
              "      a.click();\n",
              "      div.remove();\n",
              "    }\n",
              "  "
            ]
          },
          "metadata": {}
        },
        {
          "output_type": "display_data",
          "data": {
            "text/plain": [
              "<IPython.core.display.Javascript object>"
            ],
            "application/javascript": [
              "download(\"download_64a64496-595a-4fbd-8bd6-cf757606942e\", \"log_92_1_symm.json\", 36575)"
            ]
          },
          "metadata": {}
        },
        {
          "output_type": "display_data",
          "data": {
            "text/plain": [
              "  0%|          | 0/300 [00:00<?, ?it/s]"
            ],
            "application/vnd.jupyter.widget-view+json": {
              "version_major": 2,
              "version_minor": 0,
              "model_id": "cedc07363e624c0b97ddc9b64edce1a4"
            }
          },
          "metadata": {}
        },
        {
          "output_type": "display_data",
          "data": {
            "text/plain": [
              "<IPython.core.display.Javascript object>"
            ],
            "application/javascript": [
              "\n",
              "    async function download(id, filename, size) {\n",
              "      if (!google.colab.kernel.accessAllowed) {\n",
              "        return;\n",
              "      }\n",
              "      const div = document.createElement('div');\n",
              "      const label = document.createElement('label');\n",
              "      label.textContent = `Downloading \"${filename}\": `;\n",
              "      div.appendChild(label);\n",
              "      const progress = document.createElement('progress');\n",
              "      progress.max = size;\n",
              "      div.appendChild(progress);\n",
              "      document.body.appendChild(div);\n",
              "\n",
              "      const buffers = [];\n",
              "      let downloaded = 0;\n",
              "\n",
              "      const channel = await google.colab.kernel.comms.open(id);\n",
              "      // Send a message to notify the kernel that we're ready.\n",
              "      channel.send({})\n",
              "\n",
              "      for await (const message of channel.messages) {\n",
              "        // Send a message to notify the kernel that we're ready.\n",
              "        channel.send({})\n",
              "        if (message.buffers) {\n",
              "          for (const buffer of message.buffers) {\n",
              "            buffers.push(buffer);\n",
              "            downloaded += buffer.byteLength;\n",
              "            progress.value = downloaded;\n",
              "          }\n",
              "        }\n",
              "      }\n",
              "      const blob = new Blob(buffers, {type: 'application/binary'});\n",
              "      const a = document.createElement('a');\n",
              "      a.href = window.URL.createObjectURL(blob);\n",
              "      a.download = filename;\n",
              "      div.appendChild(a);\n",
              "      a.click();\n",
              "      div.remove();\n",
              "    }\n",
              "  "
            ]
          },
          "metadata": {}
        },
        {
          "output_type": "display_data",
          "data": {
            "text/plain": [
              "<IPython.core.display.Javascript object>"
            ],
            "application/javascript": [
              "download(\"download_830f6e45-9dc8-4a1e-9c2d-fe00115bedde\", \"log_102_1_symm.json\", 36545)"
            ]
          },
          "metadata": {}
        }
      ]
    },
    {
      "cell_type": "code",
      "source": [
        "#this cell saves computational times for Symmetric NNQS to .json file\n",
        "nnqs_data = dict.fromkeys(nnqs_N_arr)\n",
        "for i, N in enumerate(nnqs_N_arr):\n",
        "    nnqs_data[N] = symm_times[i]\n",
        "print(nnqs_data)\n",
        "\n",
        "with open('nnqs1symm_times.json', 'w') as fp:\n",
        "    json.dump(nnqs_data, fp)"
      ],
      "metadata": {
        "colab": {
          "base_uri": "https://localhost:8080/"
        },
        "id": "zARnszUbJP3F",
        "outputId": "203722ba-ab5c-4761-c15e-99427df99f82"
      },
      "id": "zARnszUbJP3F",
      "execution_count": null,
      "outputs": [
        {
          "output_type": "stream",
          "name": "stdout",
          "text": [
            "{2: 8.709052801132202, 4: 9.469855546951294, 6: 13.492998600006104, 8: 16.377998113632202, 10: 18.60735321044922, 12: 21.271066904067993, 14: 22.198204040527344, 16: 28.033591985702515, 18: 29.13327717781067, 20: 32.086403608322144, 22: 34.960365772247314, 32: 50.585325956344604, 42: 72.9587025642395, 52: 106.51022863388062, 62: 140.38161826133728, 72: 173.74981570243835, 82: 231.58450436592102, 92: 283.56453371047974, 102: 360.6448345184326}\n"
          ]
        }
      ]
    },
    {
      "cell_type": "markdown",
      "source": [
        "# Dependence on l"
      ],
      "metadata": {
        "id": "P7SrZtYqKnVk"
      },
      "id": "P7SrZtYqKnVk"
    },
    {
      "cell_type": "code",
      "source": [
        "#this cell study exact, NNQS and Symmetric NNQS ground state energies for different trasverse fields\n",
        "#logs are saved to .json files\n",
        "\n",
        "l_arr = np.linspace(0.1, 2.0, 30)\n",
        "nnqs1_gs_l_arr = []\n",
        "nnqs1symm_gs_l_arr = []\n",
        "exact_gs_l_arr = []\n",
        "N=102\n",
        "alpha=1\n",
        "for l in l_arr:\n",
        "    chain = Ising(N=20, l = l, periodic=True)\n",
        "    e_gs = chain.find_exact_gs()\n",
        "    exact_gs_l_arr.append(e_gs)\n",
        "\n",
        "    sampler = nk.sampler.MetropolisLocal(chain.hi)\n",
        "\n",
        "    nn_model = FFN(N=chain.N, alpha=1, rngs=nnx.Rngs(0))\n",
        "    nn_vstate = nk.vqs.MCState(sampler, nn_model, n_samples=1024)\n",
        "    log, nn_time = NNQS_run(chain, nn_vstate, n_iter=300)\n",
        "    log.serialize(f'./log_{N}_{alpha}_l_{l}')\n",
        "    files.download(f'./log_{N}_{alpha}_l_{l}.json')\n",
        "    nnqs1_gs_l_arr.append(log['Energy']['Mean'][-1])\n",
        "\n",
        "    symm_model = SNN(N=chain.N, alpha=1, rngs=nnx.Rngs(0))\n",
        "    symm_vstate = nk.vqs.MCState(sampler, symm_model, n_samples=1024)\n",
        "    symm_log, symm_time = NNQS_run(chain, symm_vstate, n_iter=300)\n",
        "    symm_log.serialize(f'./log_{N}_{alpha}_l_{l}_symm')\n",
        "    files.download(f'./log_{N}_{alpha}_l_{l}_symm.json')\n",
        "    nnqs1symm_gs_l_arr.append(symm_log['Energy']['Mean'][-1])"
      ],
      "metadata": {
        "id": "eaiI9CIJos_A"
      },
      "id": "eaiI9CIJos_A",
      "execution_count": null,
      "outputs": []
    },
    {
      "cell_type": "code",
      "source": [
        "#this cell saves exact solutions to .json file\n",
        "data = dict.fromkeys(l_arr)\n",
        "for i, N in enumerate(l_arr):\n",
        "    data[N] = exact_gs_l_arr[i]\n",
        "print(data)\n",
        "\n",
        "with open('exact_gs_l.json', 'w') as fp:\n",
        "    json.dump(data, fp)\n",
        "files.download('exact_gs_l.json')"
      ],
      "metadata": {
        "colab": {
          "base_uri": "https://localhost:8080/",
          "height": 54
        },
        "id": "6ubFRvRLqizO",
        "outputId": "55ef2e51-5351-4176-ce37-9a1c603e2f3a"
      },
      "id": "6ubFRvRLqizO",
      "execution_count": null,
      "outputs": [
        {
          "output_type": "stream",
          "name": "stdout",
          "text": [
            "{np.float64(0.1): np.float64(-20.050031328431686), np.float64(0.16551724137931034): np.float64(-20.137215953050617), np.float64(0.23103448275862068): np.float64(-20.26778713924079), np.float64(0.296551724137931): np.float64(-20.442186531979917), np.float64(0.3620689655172413): np.float64(-20.661025834267665), np.float64(0.4275862068965517): np.float64(-20.925110663080027), np.float64(0.49310344827586206): np.float64(-21.235475421323716), np.float64(0.5586206896551723): np.float64(-21.59343481697974), np.float64(0.6241379310344827): np.float64(-22.000664279095982), np.float64(0.689655172413793): np.float64(-22.45934250111322), np.float64(0.7551724137931034): np.float64(-22.972455783482623), np.float64(0.8206896551724137): np.float64(-23.544538651456204), np.float64(0.886206896551724): np.float64(-24.18335775279808), np.float64(0.9517241379310344): np.float64(-24.901975996553865), np.float64(1.0172413793103448): np.float64(-25.714023747927435), np.float64(1.0827586206896551): np.float64(-26.61672739060349), np.float64(1.1482758620689655): np.float64(-27.589905843830465), np.float64(1.2137931034482758): np.float64(-28.613795745825673), np.float64(1.2793103448275862): np.float64(-29.675389340218455), np.float64(1.3448275862068966): np.float64(-30.76644242382082), np.float64(1.410344827586207): np.float64(-31.881372271797755), np.float64(1.475862068965517): np.float64(-33.016134386796075), np.float64(1.5413793103448274): np.float64(-34.16765327379862), np.float64(1.6068965517241378): np.float64(-35.33351229044907), np.float64(1.6724137931034482): np.float64(-36.511768398387744), np.float64(1.7379310344827585): np.float64(-37.70083249437357), np.float64(1.803448275862069): np.float64(-38.899387419950834), np.float64(1.8689655172413793): np.float64(-40.10632934167002), np.float64(1.9344827586206894): np.float64(-41.32072451224343), np.float64(2.0): np.float64(-42.54177661383857)}\n"
          ]
        },
        {
          "output_type": "display_data",
          "data": {
            "text/plain": [
              "<IPython.core.display.Javascript object>"
            ],
            "application/javascript": [
              "\n",
              "    async function download(id, filename, size) {\n",
              "      if (!google.colab.kernel.accessAllowed) {\n",
              "        return;\n",
              "      }\n",
              "      const div = document.createElement('div');\n",
              "      const label = document.createElement('label');\n",
              "      label.textContent = `Downloading \"${filename}\": `;\n",
              "      div.appendChild(label);\n",
              "      const progress = document.createElement('progress');\n",
              "      progress.max = size;\n",
              "      div.appendChild(progress);\n",
              "      document.body.appendChild(div);\n",
              "\n",
              "      const buffers = [];\n",
              "      let downloaded = 0;\n",
              "\n",
              "      const channel = await google.colab.kernel.comms.open(id);\n",
              "      // Send a message to notify the kernel that we're ready.\n",
              "      channel.send({})\n",
              "\n",
              "      for await (const message of channel.messages) {\n",
              "        // Send a message to notify the kernel that we're ready.\n",
              "        channel.send({})\n",
              "        if (message.buffers) {\n",
              "          for (const buffer of message.buffers) {\n",
              "            buffers.push(buffer);\n",
              "            downloaded += buffer.byteLength;\n",
              "            progress.value = downloaded;\n",
              "          }\n",
              "        }\n",
              "      }\n",
              "      const blob = new Blob(buffers, {type: 'application/binary'});\n",
              "      const a = document.createElement('a');\n",
              "      a.href = window.URL.createObjectURL(blob);\n",
              "      a.download = filename;\n",
              "      div.appendChild(a);\n",
              "      a.click();\n",
              "      div.remove();\n",
              "    }\n",
              "  "
            ]
          },
          "metadata": {}
        },
        {
          "output_type": "display_data",
          "data": {
            "text/plain": [
              "<IPython.core.display.Javascript object>"
            ],
            "application/javascript": [
              "download(\"download_30601530-902d-4c17-8088-6bd7dca383a7\", \"exact_gs_l.json\", 1245)"
            ]
          },
          "metadata": {}
        }
      ]
    },
    {
      "cell_type": "markdown",
      "source": [
        "# Feature maps"
      ],
      "metadata": {
        "id": "I1QP5mQ5TiIM"
      },
      "id": "I1QP5mQ5TiIM"
    },
    {
      "cell_type": "code",
      "source": [
        "#this cell runs the NNQS and Symmetric NNQS once\n",
        "N = 20\n",
        "alpha = 1\n",
        "n_iter = 300\n",
        "lr = 0.1\n",
        "\n",
        "chain = Ising(N=N, l = 1, periodic=True)\n",
        "\n",
        "nn_model = FFN(N=chain.N, alpha=alpha, rngs=nnx.Rngs(0))\n",
        "nn_vstate = nk.vqs.MCState(sampler, nn_model, n_samples=1024)\n",
        "log, nn_time = NNQS_run(chain, nn_vstate, n_iter=n_iter, learning_rate=lr)\n",
        "\n",
        "symm_model = SNN(N=chain.N, alpha=alpha, rngs=nnx.Rngs(0))\n",
        "symm_vstate = nk.vqs.MCState(sampler, symm_model, n_samples=1024)\n",
        "symm_log, symm_time = NNQS_run(chain, symm_vstate, n_iter=n_iter, learning_rate=lr)"
      ],
      "metadata": {
        "id": "4lE6N8yJLrVB",
        "colab": {
          "base_uri": "https://localhost:8080/",
          "height": 81,
          "referenced_widgets": [
            "4df5ee2c5ce44dcea4924c610313e826",
            "7ba72569f0804e6e863764527a819189",
            "b6ae5e8c2bc542deac69e43d73e3d738",
            "df3f07c87cbc4fe88c507f001fa6ec97",
            "c93436a7440f405a83bd9643abae2e8f",
            "193a796ab797440d8d87a7db42112fb5",
            "eb833b26eee444f6af301f82043b527e",
            "f6310af99f754b4eac6829e435281ca3",
            "5ad92da8c20d43c2a48301f10015cff5",
            "4f704110d9f64807874d95669156ebc4",
            "fa2400149c6243d3acfa54f590f1a37b",
            "e23c8e92ca1f437aab3c799e57a4d76b",
            "6475b3f060144d89993fa2ab503ee03a",
            "a6266fc1f37846ab9bd8407513c744c8",
            "0f10291330ef44afb0c0ed9fe557caa0",
            "347e961a50674d8e8a5f3fe9ec13f238",
            "57060d6c5ffb4d3b9572f2f109819cb2",
            "00a34a4a78e4442a8f68635474ff7fc4",
            "7d819bd58a6947678fd75fd61574a13c",
            "773f9fd0c1c74520b47c39ce56b9be78",
            "f7ed7e39b1194c258e703ade0c590247",
            "5577ac46d5ad44b1b1a2c12b05cc07ca"
          ]
        },
        "outputId": "e3431fbf-5dee-409a-aae3-9cd4e5d2a492"
      },
      "id": "4lE6N8yJLrVB",
      "execution_count": null,
      "outputs": [
        {
          "output_type": "display_data",
          "data": {
            "text/plain": [
              "  0%|          | 0/300 [00:00<?, ?it/s]"
            ],
            "application/vnd.jupyter.widget-view+json": {
              "version_major": 2,
              "version_minor": 0,
              "model_id": "4df5ee2c5ce44dcea4924c610313e826"
            }
          },
          "metadata": {}
        },
        {
          "output_type": "display_data",
          "data": {
            "text/plain": [
              "  0%|          | 0/300 [00:00<?, ?it/s]"
            ],
            "application/vnd.jupyter.widget-view+json": {
              "version_major": 2,
              "version_minor": 0,
              "model_id": "e23c8e92ca1f437aab3c799e57a4d76b"
            }
          },
          "metadata": {}
        }
      ]
    },
    {
      "cell_type": "code",
      "source": [
        "#this cell plots the feature maps for NNQS and Symmetric NNQS\n",
        "fig, ax = plt.subplots(1,2,figsize = (50, 20))\n",
        "c = ax[0].pcolor(nn_model.linear.kernel)\n",
        "ax[0].set_title('Full model features')\n",
        "fig.colorbar(mappable = c, ax=ax[0])\n",
        "\n",
        "ax[1].plot(symm_model.linear_symm.kernel[0,0])\n",
        "ax[1].set_title('Symmetric model features')"
      ],
      "metadata": {
        "colab": {
          "base_uri": "https://localhost:8080/",
          "height": 466
        },
        "id": "u3MqpLjiUBqw",
        "outputId": "6fe0c733-2473-4391-b9cc-d616863de636"
      },
      "id": "u3MqpLjiUBqw",
      "execution_count": null,
      "outputs": [
        {
          "output_type": "execute_result",
          "data": {
            "text/plain": [
              "Text(0.5, 1.0, 'Symmetric model features')"
            ]
          },
          "metadata": {},
          "execution_count": 40
        },
        {
          "output_type": "display_data",
          "data": {
            "text/plain": [
              "<Figure size 5000x2000 with 3 Axes>"
            ],
            "image/png": "[encoded data removed]"
          },
          "metadata": {}
        }
      ]
    },
    {
      "cell_type": "code",
      "source": [],
      "metadata": {
        "id": "5fPDBONsUY3z"
      },
      "id": "5fPDBONsUY3z",
      "execution_count": null,
      "outputs": []
    }
  ],
  "metadata": {
    "kernelspec": {
      "display_name": "Python 3",
      "language": "python",
      "name": "python3"
    },
    "language_info": {
      "codemirror_mode": {
        "name": "ipython",
        "version": 3
      },
      "file_extension": ".py",
      "mimetype": "text/x-python",
      "name": "python",
      "nbconvert_exporter": "python",
      "pygments_lexer": "ipython3",
      "version": "3.8.8"
    },
    "colab": {
      "provenance": []
    }
  },
  "nbformat": 4,
  "nbformat_minor": 5
}