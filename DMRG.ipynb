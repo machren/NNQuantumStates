{
  "nbformat": 4,
  "nbformat_minor": 0,
  "metadata": {
    "colab": {
      "provenance": [],
      "gpuType": "T4"
    },
    "kernelspec": {
      "name": "python3",
      "display_name": "Python 3"
    },
    "language_info": {
      "name": "python"
    }
  },
  "cells": [
    {
      "cell_type": "markdown",
      "source": [
        "##Installing tenpy"
      ],
      "metadata": {
        "id": "ym3e8sZe8N-p"
      }
    },
    {
      "cell_type": "code",
      "source": [
        "!git clone https://github.com/tenpy/tenpy.git"
      ],
      "metadata": {
        "colab": {
          "base_uri": "https://localhost:8080/"
        },
        "id": "tAXvjpX07MQ6",
        "outputId": "d3f37883-f6fa-405b-d2df-62b48f32a1a1"
      },
      "execution_count": 10,
      "outputs": [
        {
          "output_type": "stream",
          "name": "stdout",
          "text": [
            "fatal: destination path 'tenpy' already exists and is not an empty directory.\n"
          ]
        }
      ]
    },
    {
      "cell_type": "code",
      "source": [
        "%cd tenpy"
      ],
      "metadata": {
        "id": "w6nAVZfWejE9",
        "colab": {
          "base_uri": "https://localhost:8080/"
        },
        "outputId": "190e4960-2b3a-4233-cab2-af3b46b3b30f"
      },
      "execution_count": 11,
      "outputs": [
        {
          "output_type": "stream",
          "name": "stdout",
          "text": [
            "/content/tenpy/tenpy\n"
          ]
        }
      ]
    },
    {
      "cell_type": "code",
      "source": [
        "!pip install -e ."
      ],
      "metadata": {
        "colab": {
          "base_uri": "https://localhost:8080/"
        },
        "id": "tbw44GMk70EC",
        "outputId": "d998a126-f8ac-47f6-8420-6a69acd18287"
      },
      "execution_count": 12,
      "outputs": [
        {
          "output_type": "stream",
          "name": "stdout",
          "text": [
            "Obtaining file:///content/tenpy/tenpy\n",
            "\u001b[31mERROR: file:///content/tenpy/tenpy does not appear to be a Python project: neither 'setup.py' nor 'pyproject.toml' found.\u001b[0m\u001b[31m\n",
            "\u001b[0m"
          ]
        }
      ]
    },
    {
      "cell_type": "code",
      "source": [
        "import tenpy\n",
        "print(tenpy.__version__)\n"
      ],
      "metadata": {
        "colab": {
          "base_uri": "https://localhost:8080/"
        },
        "id": "ZbGbbSMQ71-s",
        "outputId": "377d19f1-621c-4b58-e7f6-b17eb4370e02"
      },
      "execution_count": 13,
      "outputs": [
        {
          "output_type": "stream",
          "name": "stdout",
          "text": [
            "1.0.5\n"
          ]
        }
      ]
    },
    {
      "cell_type": "markdown",
      "source": [
        "##DMRG MPS Method"
      ],
      "metadata": {
        "id": "-tWJyHTV8Sx6"
      }
    },
    {
      "cell_type": "code",
      "source": [
        "import numpy as np\n",
        "from tenpy.models import TFIModel\n",
        "from tenpy.networks.mps import MPS\n",
        "from tenpy.algorithms import dmrg"
      ],
      "metadata": {
        "id": "pge36s4D8XOH"
      },
      "execution_count": 25,
      "outputs": []
    },
    {
      "cell_type": "code",
      "source": [
        "# Define model parameters\n",
        "model_params = {\n",
        "    'L': 10,                  # system size\n",
        "    'J': 1.0,                 # coupling constant\n",
        "    'g': 1.0,                 # transverse field\n",
        "    'bc_MPS': 'finite',       # boundary conditions\n",
        "}\n",
        "\n",
        "# Initialize the model\n",
        "model = TFIModel(model_params)\n",
        "\n",
        "# Build the initial product state (all spins up)\n",
        "product_state = [\"up\"] * model.lat.N_sites\n",
        "psi = MPS.from_product_state(model.lat.mps_sites(), product_state, bc=model_params['bc_MPS'])\n",
        "\n",
        "# DMRG parameters\n",
        "dmrg_params = {\n",
        "    'mixer': True,            # helps escape local minima\n",
        "    'max_E_err': 1e-10,\n",
        "    'trunc_params': {\n",
        "        'chi_max': 1000,\n",
        "        'svd_min': 1e-10,\n",
        "    },\n",
        "    'verbose': 1,\n",
        "    'N_sweeps_check': 2,\n",
        "}\n",
        "\n",
        "# Run the DMRG algorithm\n",
        "info = dmrg.run(psi, model, dmrg_params)\n",
        "\n",
        "# Print ground state energy\n",
        "print(\"Ground state energy:\", info['E'])"
      ],
      "metadata": {
        "colab": {
          "base_uri": "https://localhost:8080/"
        },
        "id": "JvsRnu8Y8c6N",
        "outputId": "d05ec2ca-9a64-41f8-8341-37597f085b0e"
      },
      "execution_count": 26,
      "outputs": [
        {
          "output_type": "stream",
          "name": "stdout",
          "text": [
            "Ground state energy: -12.381489999654743\n"
          ]
        },
        {
          "output_type": "stream",
          "name": "stderr",
          "text": [
            "/content/tenpy/tenpy/tools/params.py:232: UserWarning: unused option ['verbose'] for config DMRG\n",
            "  warnings.warn(msg.format(keys=sorted(unused), name=self.name))\n"
          ]
        }
      ]
    },
    {
      "cell_type": "code",
      "source": [
        "# Optional: print entanglement entropy\n",
        "S = psi.entanglement_entropy()\n",
        "print(\"Entanglement entropy:\", S)\n"
      ],
      "metadata": {
        "id": "Lwc_ZdY2NWTI"
      },
      "execution_count": null,
      "outputs": []
    }
  ]
}