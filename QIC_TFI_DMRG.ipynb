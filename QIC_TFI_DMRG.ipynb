{
  "nbformat": 4,
  "nbformat_minor": 0,
  "metadata": {
    "colab": {
      "provenance": [],
      "gpuType": "T4",
      "collapsed_sections": [
        "ym3e8sZe8N-p"
      ],
      "include_colab_link": true
    },
    "kernelspec": {
      "name": "python3",
      "display_name": "Python 3"
    },
    "language_info": {
      "name": "python"
    }
  },
  "cells": [
    {
      "cell_type": "markdown",
      "metadata": {
        "id": "view-in-github",
        "colab_type": "text"
      },
      "source": [
        "<a href=\"https://colab.research.google.com/github/machren/NNQuantumStates/blob/main/QIC_TFI_DMRG.ipynb\" target=\"_parent\"><img src=\"https://colab.research.google.com/assets/colab-badge.svg\" alt=\"Open In Colab\"/></a>"
      ]
    },
    {
      "cell_type": "markdown",
      "source": [
        "###Installing requirements for tenpy"
      ],
      "metadata": {
        "id": "ym3e8sZe8N-p"
      }
    },
    {
      "cell_type": "code",
      "source": [
        "!git clone https://github.com/tenpy/tenpy.git"
      ],
      "metadata": {
        "colab": {
          "base_uri": "https://localhost:8080/"
        },
        "id": "tAXvjpX07MQ6",
        "outputId": "32f96e9a-052e-46e5-b427-f107f727a63f"
      },
      "execution_count": 1,
      "outputs": [
        {
          "output_type": "stream",
          "name": "stdout",
          "text": [
            "fatal: destination path 'tenpy' already exists and is not an empty directory.\n"
          ]
        }
      ]
    },
    {
      "cell_type": "code",
      "source": [
        "%cd tenpy"
      ],
      "metadata": {
        "id": "w6nAVZfWejE9",
        "colab": {
          "base_uri": "https://localhost:8080/"
        },
        "outputId": "d15ecf0d-c95c-4ba0-9a3d-ed79ba02a391"
      },
      "execution_count": 2,
      "outputs": [
        {
          "output_type": "stream",
          "name": "stdout",
          "text": [
            "/content/tenpy\n"
          ]
        }
      ]
    },
    {
      "cell_type": "code",
      "source": [
        "!pip install -e ."
      ],
      "metadata": {
        "colab": {
          "base_uri": "https://localhost:8080/"
        },
        "id": "tbw44GMk70EC",
        "outputId": "9b7f84d4-2ef2-484d-fc42-1c6aea82218c"
      },
      "execution_count": 3,
      "outputs": [
        {
          "output_type": "stream",
          "name": "stdout",
          "text": [
            "Obtaining file:///content/tenpy\n",
            "  Installing build dependencies ... \u001b[?25l\u001b[?25hdone\n",
            "  Checking if build backend supports build_editable ... \u001b[?25l\u001b[?25hdone\n",
            "  Getting requirements to build editable ... \u001b[?25l\u001b[?25hdone\n",
            "  Preparing editable metadata (pyproject.toml) ... \u001b[?25l\u001b[?25hdone\n",
            "Requirement already satisfied: numpy in /usr/local/lib/python3.11/dist-packages (from physics-tenpy==1.0.5) (2.0.2)\n",
            "Requirement already satisfied: scipy in /usr/local/lib/python3.11/dist-packages (from physics-tenpy==1.0.5) (1.15.2)\n",
            "Building wheels for collected packages: physics-tenpy\n",
            "  Building editable for physics-tenpy (pyproject.toml) ... \u001b[?25l\u001b[?25hdone\n",
            "  Created wheel for physics-tenpy: filename=physics_tenpy-1.0.5-0.editable-cp311-cp311-linux_x86_64.whl size=11706 sha256=82309311c502ec2fb3ec6b5c9dc9b0ce86869fe56797d3b5f064bf05a71a46b4\n",
            "  Stored in directory: /tmp/pip-ephem-wheel-cache-lted7jw7/wheels/bd/85/a6/9b2733a9d2d26a605422357d23565058a3dd71aca54fbe1d9e\n",
            "Successfully built physics-tenpy\n",
            "Installing collected packages: physics-tenpy\n",
            "  Attempting uninstall: physics-tenpy\n",
            "    Found existing installation: physics-tenpy 1.0.6\n",
            "    Uninstalling physics-tenpy-1.0.6:\n",
            "      Successfully uninstalled physics-tenpy-1.0.6\n",
            "Successfully installed physics-tenpy-1.0.5\n"
          ]
        }
      ]
    },
    {
      "cell_type": "code",
      "source": [
        "import tenpy\n",
        "print(tenpy.__version__)\n"
      ],
      "metadata": {
        "colab": {
          "base_uri": "https://localhost:8080/"
        },
        "id": "ZbGbbSMQ71-s",
        "outputId": "6b0b67a9-4012-4cb8-aa60-422bda58a7ea"
      },
      "execution_count": 4,
      "outputs": [
        {
          "output_type": "stream",
          "name": "stdout",
          "text": [
            "1.0.5\n"
          ]
        }
      ]
    },
    {
      "cell_type": "markdown",
      "source": [
        "### Transverse Field Ising Model and DMRG in TeNPy\n",
        "\n",
        "Here we describe implementation of the transverse field Ising model (TFIModel) using the Tensor Network Python library (TeNPy), focusing on its Hamiltonian structure, model parameters, DMRG algorithm settings, and the theoretical background based on the matrix product state (MPS) framework introduced in [Schollwöck (2011)](https://arxiv.org/abs/1008.3477).\n",
        "\n",
        "---\n",
        "\n",
        "#### Transverse Field Ising Model\n",
        "\n",
        "The TFIM is defined on a lattice with the Hamiltonian consisting of nearest-neighbor spin interactions and a transverse magnetic field. The model captures the competition between ordering (due to spin-spin coupling) and quantum fluctuations (due to the transverse field).\n",
        "\n",
        "#### Model Parameters\n",
        "\n",
        "The model is specified via a configuration dictionary. The values in the example are selected for physical and numerical reasons:\n",
        "\n",
        "- **`L = N`** – System size, defining the number of lattice sites. Typical choices range from 10 to 100 depending on available computational resources. Larger sizes approach the thermodynamic limit but increase computational cost.\n",
        "\n",
        "- **`J = 1.0`** – The spin-spin coupling constant. Setting \\( J = 1 \\) is a standard normalization choice that allows comparison across different simulations. Other parameters (like `g`) are then interpreted relative to this unit.\n",
        "\n",
        "- **`g = 1.0`** – The strength of the transverse magnetic field. The value \\( g = 1 \\) is particularly significant, as it represents the critical point of the 1D transverse field Ising model in the thermodynamic limit. At this value, the system undergoes a quantum phase transition from a ferromagnetic to a paramagnetic phase.\n",
        "\n",
        "- **`bc_MPS = 'finite'`** – Boundary conditions applied to the MPS representation. 'Finite' implies open boundary conditions, suitable for systems of finite size. They are easier to handle numerically than periodic conditions.\n",
        "\n",
        "---\n",
        "\n",
        "#### DMRG Algorithm Parameters\n",
        "\n",
        "TeNPy’s DMRG implementation is highly customizable. The parameters selected in the example balance precision, convergence reliability, and computational efficiency.\n",
        "\n",
        "#### Algorithm Parameters\n",
        "\n",
        "- **`mixer = True`** – Enables the use of a mixer, which introduces noise into the local optimization steps during early sweeps. This helps prevent the algorithm from getting stuck in local minima. It is gradually turned off, allowing fine convergence near the true ground state.\n",
        "\n",
        "- **`max_E_err = 1e-10`** – Convergence threshold for the energy. The DMRG iterations stop when the energy changes between sweeps fall below this value. The choice of \\(10^{-10}\\) ensures highly accurate energy estimates suitable for precision studies, albeit with longer computation times.\n",
        "\n",
        "- **`trunc_params`**:\n",
        "  - **`chi_max = 1000`** – The maximum number of states (bond dimension) retained during truncation. A value of 1000 strikes a balance between accuracy and memory usage. Larger `chi_max` allows for more entanglement to be captured but increases computational cost.\n",
        "  - **`svd_min = 1e-10`** – Minimum singular value threshold. Singular values smaller than this are discarded. This cutoff ensures numerical stability and avoids keeping noise-level components in the MPS.\n",
        "\n",
        "- **`verbose = 1`** – Controls the level of output. A value of 1 provides moderate logging of DMRG progress without overwhelming detail, useful for monitoring convergence in typical simulations.\n",
        "\n",
        "- **`N_sweeps_check = 2`** – The number of sweeps between convergence checks. Frequent checks help terminate the algorithm promptly when convergence is reached, saving computational time.\n",
        "\n",
        "---\n",
        "\n",
        "#### DMRG Implementation in TeNPy\n",
        "\n",
        "TeNPy implements the Density Matrix Renormalization Group (DMRG) based on the modern formulation using Matrix Product States, as developed in [Schollwöck (2011)](https://arxiv.org/abs/1008.3477).\n",
        "\n",
        "#### Key Features of the MPS-Based DMRG Algorithm\n",
        "\n",
        "1. **Matrix Product States (MPS)**  \n",
        "   Quantum many-body wavefunctions are approximated as a product of local tensors. This efficiently encodes entanglement for gapped 1D systems, leveraging the area law.\n",
        "\n",
        "2. **Variational Optimization**  \n",
        "   DMRG iteratively optimizes the MPS by minimizing the system's energy, sweeping back and forth over the chain. At each step, tensors are updated locally based on their effective Hamiltonian.\n",
        "\n",
        "3. **Two-Site and One-Site Updates**  \n",
        "   The algorithm typically begins with two-site updates to ensure robustness and transitions to faster one-site updates as convergence improves. The transition is guided by convergence metrics and the `mixer` mechanism.\n",
        "\n",
        "4. **Truncation and SVD**  \n",
        "   After optimization, tensors are decomposed using Singular Value Decomposition. The MPS is truncated to retain only the most significant singular values (based on `chi_max` and `svd_min`) to control the growth of computational complexity.\n",
        "\n",
        "5. **Convergence and Stopping Criteria**  \n",
        "   Energy convergence is monitored based on `max_E_err` and checked every `N_sweeps_check` sweeps. Once changes in energy become negligible, the algorithm halts, yielding the ground-state MPS.\n",
        "\n",
        "---\n",
        "\n",
        "## References\n",
        "\n",
        "- Schollwöck, U. (2011). *The density-matrix renormalization group in the age of matrix product states*. [arXiv:1008.3477](https://arxiv.org/abs/1008.3477)\n"
      ],
      "metadata": {
        "id": "lIfMDK4Jbq40"
      }
    },
    {
      "cell_type": "code",
      "source": [
        "import numpy as np\n",
        "import time\n",
        "from tenpy.models import TFIModel\n",
        "from tenpy.models.tf_ising import TFIChain\n",
        "from tenpy.networks.mps import MPS\n",
        "from tenpy.algorithms import dmrg, dmrg_parallel"
      ],
      "metadata": {
        "id": "pge36s4D8XOH"
      },
      "execution_count": 19,
      "outputs": []
    },
    {
      "cell_type": "code",
      "source": [
        "import scipy.sparse as sparse\n",
        "from scipy.sparse.linalg import eigsh\n",
        "import warnings\n",
        "import scipy.integrate\n",
        "\n",
        "def finite_gs_energy(L, J, g):\n",
        "    \"\"\"For comparison: obtain ground state energy from exact diagonalization.\n",
        "\n",
        "    Exponentially expensive in L, only works for small enough `L` <~ 20.\n",
        "    \"\"\"\n",
        "    if L >= 20:\n",
        "        warnings.warn(\"Large L: Exact diagonalization might take a long time!\")\n",
        "    # get single site operaors\n",
        "    sx = sparse.csr_matrix(np.array([[0., 1.], [1., 0.]]))\n",
        "    sz = sparse.csr_matrix(np.array([[1., 0.], [0., -1.]]))\n",
        "    id = sparse.csr_matrix(np.eye(2))\n",
        "    sx_list = []  # sx_list[i] = kron([id, id, ..., id, sx, id, .... id])\n",
        "    sz_list = []\n",
        "    for i_site in range(L):\n",
        "        x_ops = [id] * L\n",
        "        z_ops = [id] * L\n",
        "        x_ops[i_site] = sx\n",
        "        z_ops[i_site] = sz\n",
        "        X = x_ops[0]\n",
        "        Z = z_ops[0]\n",
        "        for j in range(1, L):\n",
        "            X = sparse.kron(X, x_ops[j], 'csr')\n",
        "            Z = sparse.kron(Z, z_ops[j], 'csr')\n",
        "        sx_list.append(X)\n",
        "        sz_list.append(Z)\n",
        "    H_xx = sparse.csr_matrix((2**L, 2**L))\n",
        "    H_z = sparse.csr_matrix((2**L, 2**L))\n",
        "    for i in range(L - 1):\n",
        "        H_xx = H_xx + sx_list[i] * sx_list[(i + 1) % L]\n",
        "    for i in range(L):\n",
        "        H_z = H_z + sz_list[i]\n",
        "    H = -J * H_xx - g * H_z\n",
        "    E, V = eigsh(H, k=1, which='SA', return_eigenvectors=True, ncv=20)\n",
        "    return E[0]\n",
        "\n",
        "def infinite_gs_energy(J, g):\n",
        "    \"\"\"For comparison: Calculate groundstate energy density from analytic formula.\n",
        "\n",
        "    The analytic formula stems from mapping the model to free fermions, see P. Pfeuty, The one-\n",
        "    dimensional Ising model with a transverse field, Annals of Physics 57, p. 79 (1970). Note that\n",
        "    we use Pauli matrices compared this reference using spin-1/2 matrices and replace the sum_k ->\n",
        "    integral dk/2pi to obtain the result in the N -> infinity limit.\n",
        "    \"\"\"\n",
        "    def f(k, lambda_):\n",
        "        return np.sqrt(1 + lambda_**2 + 2 * lambda_ * np.cos(k))\n",
        "\n",
        "    E0_exact = -g / (J * 2. * np.pi) * scipy.integrate.quad(f, -np.pi, np.pi, args=(J / g, ))[0]\n",
        "    return E0_exact"
      ],
      "metadata": {
        "id": "L9XMyq-yyWVZ"
      },
      "execution_count": 15,
      "outputs": []
    },
    {
      "cell_type": "code",
      "source": [
        "# DMRG parameters\n",
        "dmrg_params = {\n",
        "    'mixer': True,            # to avoid that the algorithm gets stuck in local energy minima\n",
        "    'max_E_err': 1e-10,\n",
        "    'trunc_params': {\n",
        "        'chi_max': 1000,\n",
        "        'svd_min': 1e-10,\n",
        "    },\n",
        "    'verbose': 1,\n",
        "    'N_sweeps_check': 2,\n",
        "}\n",
        "\n",
        "ground_energies = []\n",
        "times = []"
      ],
      "metadata": {
        "id": "SDXAjkfDbGH-"
      },
      "execution_count": 13,
      "outputs": []
    },
    {
      "cell_type": "code",
      "source": [
        "for N in range(10, 100, 10):\n",
        "  # Define model parameters\n",
        "  model_params = {\n",
        "      'L': N,                   # system size\n",
        "      'J': 1.,                 # coupling constant\n",
        "      'g': 1.,                 # transverse field\n",
        "      'bc_MPS': 'finite',       # boundary conditions\n",
        "  }\n",
        "\n",
        "  # Initialize the model\n",
        "  model = TFIModel(model_params)\n",
        "\n",
        "  # Build the initial product state (all spins up)\n",
        "  product_state = [\"up\"] * model.lat.N_sites\n",
        "\n",
        "  psi = MPS.from_product_state(model.lat.mps_sites(), product_state, bc=model_params['bc_MPS'])\n",
        "\n",
        "  # Run the DMRG algorithm\n",
        "  start_time = time.time()\n",
        "  info = dmrg.run(psi, model, dmrg_params)\n",
        "  end_time = time.time()\n",
        "\n",
        "  times.append(end_time - start_time)\n",
        "  ground_energies.append(info['E'])\n",
        "\n",
        "  print(\"final bond dimensions: \", psi.chi)\n",
        "  mag_x = np.sum(psi.expectation_value(\"Sigmax\"))\n",
        "  mag_z = np.sum(psi.expectation_value(\"Sigmaz\"))\n",
        "  print(\"magnetization in X = {mag_x:.5f}\".format(mag_x=mag_x))\n",
        "  print(\"magnetization in Z = {mag_z:.5f}\".format(mag_z=mag_z))\n",
        "  if N < 20:  # compare to exact result\n",
        "      E_exact = finite_gs_energy(N, 1., 1.)\n",
        "      print(\"Exact diagonalization: E = {E:.13f}\".format(E=E_exact))\n",
        "      print(\"relative error: \", abs((info['E'] - E_exact) / E_exact))\n",
        "\n",
        "  print(f\"N = {N}: Ground state energy = {info['E']}\")\n",
        "  print(f\"Time taken is {end_time - start_time} seconds\")"
      ],
      "metadata": {
        "colab": {
          "base_uri": "https://localhost:8080/"
        },
        "id": "JvsRnu8Y8c6N",
        "outputId": "1cee3854-77c4-44d7-ffed-5ee0a3acc833"
      },
      "execution_count": 14,
      "outputs": [
        {
          "output_type": "stream",
          "name": "stderr",
          "text": [
            "/content/tenpy/tenpy/tools/params.py:232: UserWarning: unused option ['verbose'] for config DMRG\n",
            "  warnings.warn(msg.format(keys=sorted(unused), name=self.name))\n"
          ]
        },
        {
          "output_type": "stream",
          "name": "stdout",
          "text": [
            "final bond dimensions:  [2, 4, 8, 14, 19, 14, 8, 4, 2]\n",
            "magnetization in X = 0.00000\n",
            "magnetization in Z = 7.32255\n",
            "Exact diagonalization: E = -12.3814899996547\n",
            "relative error:  4.3040623691892936e-16\n",
            "N = 10: Ground state energy = -12.381489999654743\n",
            "Time taken is 1.8805060386657715 seconds\n"
          ]
        },
        {
          "output_type": "stream",
          "name": "stderr",
          "text": [
            "/content/tenpy/tenpy/tools/params.py:232: UserWarning: unused option ['verbose'] for config DMRG\n",
            "  warnings.warn(msg.format(keys=sorted(unused), name=self.name))\n"
          ]
        },
        {
          "output_type": "stream",
          "name": "stdout",
          "text": [
            "final bond dimensions:  [2, 4, 8, 16, 22, 27, 30, 33, 33, 33, 33, 33, 30, 27, 22, 16, 8, 4, 2]\n",
            "magnetization in X = 0.00000\n",
            "magnetization in Z = 13.89885\n",
            "N = 20: Ground state energy = -25.107797111623743\n",
            "Time taken is 5.991666316986084 seconds\n"
          ]
        },
        {
          "output_type": "stream",
          "name": "stderr",
          "text": [
            "/content/tenpy/tenpy/tools/params.py:232: UserWarning: unused option ['verbose'] for config DMRG\n",
            "  warnings.warn(msg.format(keys=sorted(unused), name=self.name))\n"
          ]
        },
        {
          "output_type": "stream",
          "name": "stdout",
          "text": [
            "final bond dimensions:  [2, 4, 8, 16, 22, 28, 33, 34, 36, 37, 41, 41, 44, 44, 44, 44, 44, 41, 41, 37, 36, 34, 33, 28, 22, 16, 8, 4, 2]\n",
            "magnetization in X = 0.00000\n",
            "magnetization in Z = 20.39050\n",
            "N = 30: Ground state energy = -37.838098239709325\n",
            "Time taken is 15.734065055847168 seconds\n"
          ]
        },
        {
          "output_type": "stream",
          "name": "stderr",
          "text": [
            "/content/tenpy/tenpy/tools/params.py:232: UserWarning: unused option ['verbose'] for config DMRG\n",
            "  warnings.warn(msg.format(keys=sorted(unused), name=self.name))\n"
          ]
        },
        {
          "output_type": "stream",
          "name": "stdout",
          "text": [
            "final bond dimensions:  [2, 4, 8, 16, 22, 29, 34, 35, 37, 41, 45, 45, 47, 47, 48, 49, 50, 50, 52, 51, 51, 50, 50, 49, 48, 47, 47, 45, 45, 41, 37, 35, 34, 29, 22, 16, 8, 4, 2]\n",
            "magnetization in X = 0.00000\n",
            "magnetization in Z = 26.84645\n",
            "N = 40: Ground state energy = -50.56943379479517\n",
            "Time taken is 28.264277935028076 seconds\n"
          ]
        },
        {
          "output_type": "stream",
          "name": "stderr",
          "text": [
            "/content/tenpy/tenpy/tools/params.py:232: UserWarning: unused option ['verbose'] for config DMRG\n",
            "  warnings.warn(msg.format(keys=sorted(unused), name=self.name))\n"
          ]
        },
        {
          "output_type": "stream",
          "name": "stdout",
          "text": [
            "final bond dimensions:  [2, 4, 8, 16, 22, 30, 34, 36, 40, 43, 45, 47, 47, 50, 52, 52, 56, 57, 57, 58, 60, 61, 61, 61, 61, 61, 61, 60, 60, 58, 58, 57, 56, 53, 52, 50, 48, 47, 45, 43, 40, 36, 34, 30, 22, 16, 8, 4, 2]\n",
            "magnetization in X = 0.00000\n",
            "magnetization in Z = 33.28257\n",
            "N = 50: Ground state energy = -63.30118915542022\n",
            "Time taken is 58.38818430900574 seconds\n"
          ]
        },
        {
          "output_type": "stream",
          "name": "stderr",
          "text": [
            "/content/tenpy/tenpy/tools/params.py:232: UserWarning: unused option ['verbose'] for config DMRG\n",
            "  warnings.warn(msg.format(keys=sorted(unused), name=self.name))\n"
          ]
        },
        {
          "output_type": "stream",
          "name": "stdout",
          "text": [
            "final bond dimensions:  [2, 4, 8, 16, 22, 30, 34, 36, 40, 44, 45, 47, 49, 52, 53, 57, 57, 60, 61, 61, 62, 64, 64, 64, 65, 66, 67, 67, 67, 67, 67, 67, 67, 66, 65, 64, 64, 64, 62, 61, 61, 60, 58, 57, 53, 52, 49, 47, 45, 44, 40, 36, 34, 30, 22, 16, 8, 4, 2]\n",
            "magnetization in X = 0.00000\n",
            "magnetization in Z = 39.70607\n",
            "N = 60: Ground state energy = -76.03315613032177\n",
            "Time taken is 107.24180483818054 seconds\n"
          ]
        },
        {
          "output_type": "stream",
          "name": "stderr",
          "text": [
            "/content/tenpy/tenpy/tools/params.py:232: UserWarning: unused option ['verbose'] for config DMRG\n",
            "  warnings.warn(msg.format(keys=sorted(unused), name=self.name))\n"
          ]
        },
        {
          "output_type": "stream",
          "name": "stdout",
          "text": [
            "final bond dimensions:  [2, 4, 8, 16, 22, 30, 34, 36, 40, 44, 45, 47, 50, 52, 56, 57, 60, 61, 62, 64, 64, 66, 67, 68, 69, 70, 71, 72, 72, 73, 73, 73, 73, 74, 74, 74, 74, 74, 73, 73, 73, 72, 71, 70, 69, 68, 67, 66, 64, 64, 62, 61, 61, 58, 56, 52, 50, 47, 45, 44, 40, 36, 34, 30, 22, 16, 8, 4, 2]\n",
            "magnetization in X = 0.00000\n",
            "magnetization in Z = 46.12081\n",
            "N = 70: Ground state energy = -88.76524466396042\n",
            "Time taken is 173.0730230808258 seconds\n"
          ]
        },
        {
          "output_type": "stream",
          "name": "stderr",
          "text": [
            "/content/tenpy/tenpy/tools/params.py:232: UserWarning: unused option ['verbose'] for config DMRG\n",
            "  warnings.warn(msg.format(keys=sorted(unused), name=self.name))\n"
          ]
        },
        {
          "output_type": "stream",
          "name": "stdout",
          "text": [
            "final bond dimensions:  [2, 4, 8, 16, 22, 30, 34, 36, 40, 45, 45, 47, 50, 52, 57, 58, 60, 62, 62, 64, 65, 67, 69, 70, 72, 73, 74, 76, 77, 77, 77, 78, 78, 78, 80, 80, 80, 81, 80, 80, 80, 81, 80, 80, 80, 79, 78, 78, 78, 77, 77, 76, 74, 73, 72, 71, 69, 67, 65, 64, 63, 62, 60, 57, 57, 52, 50, 47, 46, 45, 40, 36, 34, 30, 22, 16, 8, 4, 2]\n",
            "magnetization in X = 0.00000\n",
            "magnetization in Z = 52.52911\n",
            "N = 80: Ground state energy = -101.4974094523919\n",
            "Time taken is 301.6493170261383 seconds\n",
            "final bond dimensions:  [2, 4, 8, 16, 22, 30, 34, 36, 40, 45, 47, 47, 50, 52, 57, 58, 61, 62, 64, 65, 67, 68, 70, 72, 74, 76, 77, 77, 78, 79, 80, 80, 81, 82, 83, 83, 83, 83, 83, 83, 83, 84, 84, 85, 85, 85, 85, 85, 84, 84, 83, 83, 83, 83, 83, 82, 81, 81, 80, 79, 78, 77, 77, 76, 74, 72, 70, 68, 67, 65, 64, 62, 61, 58, 57, 53, 50, 48, 47, 45, 41, 36, 34, 30, 22, 16, 8, 4, 2]\n",
            "magnetization in X = 0.00000\n",
            "magnetization in Z = 58.93249\n",
            "N = 90: Ground state energy = -114.22962521669884\n",
            "Time taken is 391.6656262874603 seconds\n"
          ]
        },
        {
          "output_type": "stream",
          "name": "stderr",
          "text": [
            "/content/tenpy/tenpy/tools/params.py:232: UserWarning: unused option ['verbose'] for config DMRG\n",
            "  warnings.warn(msg.format(keys=sorted(unused), name=self.name))\n"
          ]
        }
      ]
    },
    {
      "cell_type": "code",
      "source": [
        "# Print ground state energy\n",
        "print(\"Ground state energy:\", ground_energies)"
      ],
      "metadata": {
        "colab": {
          "base_uri": "https://localhost:8080/"
        },
        "id": "sf8SR0zkZNWU",
        "outputId": "f1145419-1f13-426e-9b8a-829a91030ef4"
      },
      "execution_count": 18,
      "outputs": [
        {
          "output_type": "stream",
          "name": "stdout",
          "text": [
            "Ground state energy: [np.float64(-12.381489999654743), np.float64(-25.107797111623743), np.float64(-37.838098239709325), np.float64(-50.56943379479517), np.float64(-63.30118915542022), np.float64(-76.03315613032177), np.float64(-88.76524466396042), np.float64(-101.4974094523919), np.float64(-114.22962521669884)]\n"
          ]
        }
      ]
    },
    {
      "cell_type": "markdown",
      "source": [
        "### Single-site infinite DMRG, transverse field Ising model\n"
      ],
      "metadata": {
        "id": "cBMujGiq1BYr"
      }
    },
    {
      "cell_type": "code",
      "source": [
        "# iDMRG parameters\n",
        "idmrg_params = {\n",
        "    'mixer': True,            # to avoid that the algorithm gets stuck in local energy minima\n",
        "    'max_E_err': 1e-10,\n",
        "    'trunc_params': {\n",
        "        'chi_max': 30,\n",
        "        'svd_min': 1e-10,\n",
        "    },\n",
        "    'verbose': 1,\n",
        "    'N_sweeps_check': 2,\n",
        "}\n",
        "\n",
        "model_params = dict(L=2, J=1., g=1., bc_MPS='infinite', conserve=None)\n",
        "\n",
        "M = TFIChain(model_params)\n",
        "\n",
        "product_state = [\"up\"] * M.lat.N_sites\n",
        "\n",
        "psi = MPS.from_product_state(M.lat.mps_sites(), product_state, bc=M.lat.bc_MPS)\n",
        "\n",
        "eng = dmrg.SingleSiteDMRGEngine(psi, M, idmrg_params)\n",
        "E, psi = eng.run()  # equivalent to dmrg.run() up to the return parameters.\n",
        "\n",
        "print(\"E = {E:.13f}\".format(E=E))\n",
        "print(\"final bond dimensions: \", psi.chi)\n",
        "\n",
        "mag_x = np.mean(psi.expectation_value(\"Sigmax\"))\n",
        "mag_z = np.mean(psi.expectation_value(\"Sigmaz\"))\n",
        "\n",
        "print(\"<sigma_x> = {mag_x:.5f}\".format(mag_x=mag_x))\n",
        "print(\"<sigma_z> = {mag_z:.5f}\".format(mag_z=mag_z))\n",
        "print(\"correlation length:\", psi.correlation_length())\n",
        "\n",
        "# compare to exact result\n",
        "E_exact = infinite_gs_energy(1., 1.)\n",
        "print(\"Analytic result: E (per site) = {E:.13f}\".format(E=E_exact))\n",
        "print(\"relative error: \", abs((E - E_exact) / E_exact))"
      ],
      "metadata": {
        "colab": {
          "base_uri": "https://localhost:8080/"
        },
        "id": "scQvio4j07Oy",
        "outputId": "bdfb599b-9134-494c-af68-13f14ee3b3dc"
      },
      "execution_count": 17,
      "outputs": [
        {
          "output_type": "stream",
          "name": "stderr",
          "text": [
            "WARNING:tenpy.algorithms.dmrg:final DMRG state not in canonical form up to norm_tol=1.00e-05: norm_err=8.15e-05\n",
            "WARNING:tenpy.algorithms.dmrg:norm_err=8.07e-05 still too high after environment_sweeps\n",
            "WARNING:tenpy.algorithms.dmrg:final DMRG state not in canonical form up to norm_tol_final=1.00e-10: norm_err=8.07e-05, calling psi.canonical_form()\n"
          ]
        },
        {
          "output_type": "stream",
          "name": "stdout",
          "text": [
            "E = -1.9099013180437\n",
            "final bond dimensions:  [30, 30]\n",
            "<sigma_x> = -0.29321\n",
            "<sigma_z> = 0.63662\n",
            "correlation length: 790.001203244766\n",
            "Analytic result: E (per site) = -1.2732395447352\n",
            "relative error:  0.5000329874618831\n"
          ]
        }
      ]
    }
  ]
}